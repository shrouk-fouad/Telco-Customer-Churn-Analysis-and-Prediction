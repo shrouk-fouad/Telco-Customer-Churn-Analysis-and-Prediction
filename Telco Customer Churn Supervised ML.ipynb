{
 "cells": [
  {
   "cell_type": "markdown",
   "id": "7220b81e",
   "metadata": {},
   "source": [
    "## Data Wrangling and Exploration"
   ]
  },
  {
   "cell_type": "code",
   "execution_count": 1,
   "id": "96491ec7",
   "metadata": {},
   "outputs": [],
   "source": [
    "import os"
   ]
  },
  {
   "cell_type": "code",
   "execution_count": 2,
   "id": "c4b12fbb",
   "metadata": {},
   "outputs": [],
   "source": [
    "path = 'G:\\Projects\\TelcoCustomerChurn'"
   ]
  },
  {
   "cell_type": "code",
   "execution_count": 3,
   "id": "0e4eb339",
   "metadata": {},
   "outputs": [],
   "source": [
    "files = os.listdir(path)"
   ]
  },
  {
   "cell_type": "code",
   "execution_count": 4,
   "id": "a0da5d8d",
   "metadata": {},
   "outputs": [],
   "source": [
    "for file in files:\n",
    "    print(file)"
   ]
  },
  {
   "cell_type": "markdown",
   "id": "4586d4e5",
   "metadata": {},
   "source": [
    "## Data Wrangling"
   ]
  },
  {
   "cell_type": "code",
   "execution_count": 125,
   "id": "4c66a67d",
   "metadata": {},
   "outputs": [],
   "source": [
    "# Import pandas matplotlib and seaborn\n",
    "import pandas as pd\n",
    "import matplotlib.pyplot as plt\n",
    "import seaborn as sns"
   ]
  },
  {
   "cell_type": "code",
   "execution_count": 126,
   "id": "e9612456",
   "metadata": {},
   "outputs": [],
   "source": [
    "#loading data into notebook\n",
    "telco = pd.read_csv(r\"G:\\Projects\\TelcoCustomerChurn\\Telco Main.csv\")"
   ]
  },
  {
   "cell_type": "code",
   "execution_count": 127,
   "id": "3867119a",
   "metadata": {},
   "outputs": [
    {
     "data": {
      "text/plain": [
       "(6687, 33)"
      ]
     },
     "execution_count": 127,
     "metadata": {},
     "output_type": "execute_result"
    }
   ],
   "source": [
    "telco.shape"
   ]
  },
  {
   "cell_type": "code",
   "execution_count": 128,
   "id": "1eab3c7a",
   "metadata": {},
   "outputs": [
    {
     "data": {
      "text/html": [
       "<div>\n",
       "<style scoped>\n",
       "    .dataframe tbody tr th:only-of-type {\n",
       "        vertical-align: middle;\n",
       "    }\n",
       "\n",
       "    .dataframe tbody tr th {\n",
       "        vertical-align: top;\n",
       "    }\n",
       "\n",
       "    .dataframe thead th {\n",
       "        text-align: right;\n",
       "    }\n",
       "</style>\n",
       "<table border=\"1\" class=\"dataframe\">\n",
       "  <thead>\n",
       "    <tr style=\"text-align: right;\">\n",
       "      <th></th>\n",
       "      <th>Customer ID</th>\n",
       "      <th>Churn</th>\n",
       "      <th>Account_Length</th>\n",
       "      <th>Local_Calls</th>\n",
       "      <th>Local_Mins</th>\n",
       "      <th>Intl_Calls</th>\n",
       "      <th>Intl_Mins</th>\n",
       "      <th>Intl_Active</th>\n",
       "      <th>Intl_Plan</th>\n",
       "      <th>Extra_Internationa_ Charges</th>\n",
       "      <th>...</th>\n",
       "      <th>Payment Method</th>\n",
       "      <th>Monthly Charge</th>\n",
       "      <th>Total Charges</th>\n",
       "      <th>Churn Category</th>\n",
       "      <th>Churn Reason</th>\n",
       "      <th>InternetService</th>\n",
       "      <th>DeviceProtection</th>\n",
       "      <th>TechSupport</th>\n",
       "      <th>StreamingTV</th>\n",
       "      <th>StreamingMovies</th>\n",
       "    </tr>\n",
       "  </thead>\n",
       "  <tbody>\n",
       "    <tr>\n",
       "      <th>0</th>\n",
       "      <td>4444-BZPU</td>\n",
       "      <td>No</td>\n",
       "      <td>1</td>\n",
       "      <td>3</td>\n",
       "      <td>8.0</td>\n",
       "      <td>0.0</td>\n",
       "      <td>0.0</td>\n",
       "      <td>No</td>\n",
       "      <td>no</td>\n",
       "      <td>0.0</td>\n",
       "      <td>...</td>\n",
       "      <td>Direct Debit</td>\n",
       "      <td>10</td>\n",
       "      <td>10</td>\n",
       "      <td>NaN</td>\n",
       "      <td>NaN</td>\n",
       "      <td>DSL</td>\n",
       "      <td>No</td>\n",
       "      <td>No</td>\n",
       "      <td>No</td>\n",
       "      <td>No</td>\n",
       "    </tr>\n",
       "    <tr>\n",
       "      <th>1</th>\n",
       "      <td>5676-PTZX</td>\n",
       "      <td>No</td>\n",
       "      <td>33</td>\n",
       "      <td>179</td>\n",
       "      <td>431.3</td>\n",
       "      <td>0.0</td>\n",
       "      <td>0.0</td>\n",
       "      <td>No</td>\n",
       "      <td>no</td>\n",
       "      <td>0.0</td>\n",
       "      <td>...</td>\n",
       "      <td>Paper Check</td>\n",
       "      <td>21</td>\n",
       "      <td>703</td>\n",
       "      <td>NaN</td>\n",
       "      <td>NaN</td>\n",
       "      <td>DSL</td>\n",
       "      <td>Yes</td>\n",
       "      <td>No</td>\n",
       "      <td>No</td>\n",
       "      <td>No</td>\n",
       "    </tr>\n",
       "    <tr>\n",
       "      <th>2</th>\n",
       "      <td>8532-ZEKQ</td>\n",
       "      <td>No</td>\n",
       "      <td>44</td>\n",
       "      <td>82</td>\n",
       "      <td>217.6</td>\n",
       "      <td>0.0</td>\n",
       "      <td>0.0</td>\n",
       "      <td>No</td>\n",
       "      <td>yes</td>\n",
       "      <td>0.0</td>\n",
       "      <td>...</td>\n",
       "      <td>Direct Debit</td>\n",
       "      <td>23</td>\n",
       "      <td>1014</td>\n",
       "      <td>NaN</td>\n",
       "      <td>NaN</td>\n",
       "      <td>DSL</td>\n",
       "      <td>No</td>\n",
       "      <td>No</td>\n",
       "      <td>No</td>\n",
       "      <td>No</td>\n",
       "    </tr>\n",
       "    <tr>\n",
       "      <th>3</th>\n",
       "      <td>1314-SMPJ</td>\n",
       "      <td>No</td>\n",
       "      <td>10</td>\n",
       "      <td>47</td>\n",
       "      <td>111.6</td>\n",
       "      <td>60.0</td>\n",
       "      <td>71.0</td>\n",
       "      <td>Yes</td>\n",
       "      <td>yes</td>\n",
       "      <td>0.0</td>\n",
       "      <td>...</td>\n",
       "      <td>Paper Check</td>\n",
       "      <td>17</td>\n",
       "      <td>177</td>\n",
       "      <td>NaN</td>\n",
       "      <td>NaN</td>\n",
       "      <td>DSL</td>\n",
       "      <td>Yes</td>\n",
       "      <td>Yes</td>\n",
       "      <td>No</td>\n",
       "      <td>No</td>\n",
       "    </tr>\n",
       "    <tr>\n",
       "      <th>4</th>\n",
       "      <td>2956-TXCJ</td>\n",
       "      <td>No</td>\n",
       "      <td>62</td>\n",
       "      <td>184</td>\n",
       "      <td>621.2</td>\n",
       "      <td>310.0</td>\n",
       "      <td>694.4</td>\n",
       "      <td>Yes</td>\n",
       "      <td>yes</td>\n",
       "      <td>0.0</td>\n",
       "      <td>...</td>\n",
       "      <td>Direct Debit</td>\n",
       "      <td>28</td>\n",
       "      <td>1720</td>\n",
       "      <td>NaN</td>\n",
       "      <td>NaN</td>\n",
       "      <td>Fiber optic</td>\n",
       "      <td>No</td>\n",
       "      <td>No</td>\n",
       "      <td>No</td>\n",
       "      <td>No</td>\n",
       "    </tr>\n",
       "  </tbody>\n",
       "</table>\n",
       "<p>5 rows × 33 columns</p>\n",
       "</div>"
      ],
      "text/plain": [
       "  Customer ID Churn  Account_Length  Local_Calls  Local_Mins  Intl_Calls   \n",
       "0   4444-BZPU    No               1            3         8.0         0.0  \\\n",
       "1   5676-PTZX    No              33          179       431.3         0.0   \n",
       "2   8532-ZEKQ    No              44           82       217.6         0.0   \n",
       "3   1314-SMPJ    No              10           47       111.6        60.0   \n",
       "4   2956-TXCJ    No              62          184       621.2       310.0   \n",
       "\n",
       "   Intl_Mins Intl_Active Intl_Plan  Extra_Internationa_ Charges  ...   \n",
       "0        0.0          No        no                          0.0  ...  \\\n",
       "1        0.0          No        no                          0.0  ...   \n",
       "2        0.0          No       yes                          0.0  ...   \n",
       "3       71.0         Yes       yes                          0.0  ...   \n",
       "4      694.4         Yes       yes                          0.0  ...   \n",
       "\n",
       "   Payment Method  Monthly Charge Total Charges  Churn Category Churn Reason   \n",
       "0    Direct Debit              10            10             NaN          NaN  \\\n",
       "1     Paper Check              21           703             NaN          NaN   \n",
       "2    Direct Debit              23          1014             NaN          NaN   \n",
       "3     Paper Check              17           177             NaN          NaN   \n",
       "4    Direct Debit              28          1720             NaN          NaN   \n",
       "\n",
       "  InternetService DeviceProtection  TechSupport StreamingTV StreamingMovies  \n",
       "0             DSL               No           No          No              No  \n",
       "1             DSL              Yes           No          No              No  \n",
       "2             DSL               No           No          No              No  \n",
       "3             DSL              Yes          Yes          No              No  \n",
       "4     Fiber optic               No           No          No              No  \n",
       "\n",
       "[5 rows x 33 columns]"
      ]
     },
     "execution_count": 128,
     "metadata": {},
     "output_type": "execute_result"
    }
   ],
   "source": [
    "telco.head()"
   ]
  },
  {
   "cell_type": "code",
   "execution_count": 129,
   "id": "a4329fb4",
   "metadata": {},
   "outputs": [
    {
     "name": "stdout",
     "output_type": "stream",
     "text": [
      "<class 'pandas.core.frame.DataFrame'>\n",
      "RangeIndex: 6687 entries, 0 to 6686\n",
      "Data columns (total 33 columns):\n",
      " #   Column                             Non-Null Count  Dtype  \n",
      "---  ------                             --------------  -----  \n",
      " 0   Customer ID                        6687 non-null   object \n",
      " 1   Churn                              6687 non-null   object \n",
      " 2   Account_Length                     6687 non-null   int64  \n",
      " 3   Local_Calls                        6687 non-null   int64  \n",
      " 4   Local_Mins                         6687 non-null   float64\n",
      " 5   Intl_Calls                         6687 non-null   float64\n",
      " 6   Intl_Mins                          6687 non-null   float64\n",
      " 7   Intl_Active                        6687 non-null   object \n",
      " 8   Intl_Plan                          6687 non-null   object \n",
      " 9   Extra_Internationa_ Charges        6687 non-null   float64\n",
      " 10  CustServ_Calls                     6687 non-null   int64  \n",
      " 11  Avg_Monthly_GB_Download            6687 non-null   int64  \n",
      " 12  Unlimited Data Plan                6687 non-null   object \n",
      " 13  Extra Data Charges                 6687 non-null   int64  \n",
      " 14  State                              6687 non-null   object \n",
      " 15  Phone Number                       6687 non-null   object \n",
      " 16  Gender                             6687 non-null   object \n",
      " 17  Age                                6687 non-null   int64  \n",
      " 18  Under 30                           6687 non-null   object \n",
      " 19  Senior                             6687 non-null   object \n",
      " 20  Group                              6687 non-null   object \n",
      " 21  Device Protection & Online Backup  6687 non-null   object \n",
      " 22  Contract Type                      6687 non-null   object \n",
      " 23  Payment Method                     6687 non-null   object \n",
      " 24  Monthly Charge                     6687 non-null   int64  \n",
      " 25  Total Charges                      6687 non-null   int64  \n",
      " 26  Churn Category                     1769 non-null   object \n",
      " 27  Churn Reason                       1769 non-null   object \n",
      " 28  InternetService                    6687 non-null   object \n",
      " 29  DeviceProtection                   6687 non-null   object \n",
      " 30  TechSupport                        6687 non-null   object \n",
      " 31  StreamingTV                        6687 non-null   object \n",
      " 32  StreamingMovies                    6687 non-null   object \n",
      "dtypes: float64(4), int64(8), object(21)\n",
      "memory usage: 1.7+ MB\n"
     ]
    }
   ],
   "source": [
    "telco.info()"
   ]
  },
  {
   "cell_type": "code",
   "execution_count": 130,
   "id": "3fedf089",
   "metadata": {
    "scrolled": false
   },
   "outputs": [
    {
     "data": {
      "text/plain": [
       "Customer ID                           object\n",
       "Churn                                 object\n",
       "Account_Length                         int64\n",
       "Local_Calls                            int64\n",
       "Local_Mins                           float64\n",
       "Intl_Calls                           float64\n",
       "Intl_Mins                            float64\n",
       "Intl_Active                           object\n",
       "Intl_Plan                             object\n",
       "Extra_Internationa_ Charges          float64\n",
       "CustServ_Calls                         int64\n",
       "Avg_Monthly_GB_Download                int64\n",
       "Unlimited Data Plan                   object\n",
       "Extra Data Charges                     int64\n",
       "State                                 object\n",
       "Phone Number                          object\n",
       "Gender                                object\n",
       "Age                                    int64\n",
       "Under 30                              object\n",
       "Senior                                object\n",
       "Group                                 object\n",
       "Device Protection & Online Backup     object\n",
       "Contract Type                         object\n",
       "Payment Method                        object\n",
       "Monthly Charge                         int64\n",
       "Total Charges                          int64\n",
       "Churn Category                        object\n",
       "Churn Reason                          object\n",
       "InternetService                       object\n",
       "DeviceProtection                      object\n",
       "TechSupport                           object\n",
       "StreamingTV                           object\n",
       "StreamingMovies                       object\n",
       "dtype: object"
      ]
     },
     "execution_count": 130,
     "metadata": {},
     "output_type": "execute_result"
    }
   ],
   "source": [
    "telco.dtypes"
   ]
  },
  {
   "cell_type": "code",
   "execution_count": 131,
   "id": "48465b09",
   "metadata": {},
   "outputs": [
    {
     "data": {
      "text/plain": [
       "Churn\n",
       "No     4891\n",
       "Yes    1796\n",
       "Name: count, dtype: int64"
      ]
     },
     "execution_count": 131,
     "metadata": {},
     "output_type": "execute_result"
    }
   ],
   "source": [
    "telco['Churn'].value_counts()"
   ]
  },
  {
   "cell_type": "code",
   "execution_count": 132,
   "id": "5f818841",
   "metadata": {},
   "outputs": [
    {
     "name": "stdout",
     "output_type": "stream",
     "text": [
      "     Churn  CustServ_Calls\n",
      "0       No               0\n",
      "1       No               0\n",
      "2       No               0\n",
      "3       No               0\n",
      "4       No               0\n",
      "...    ...             ...\n",
      "6682   Yes               0\n",
      "6683   Yes               5\n",
      "6684   Yes               4\n",
      "6685   Yes               2\n",
      "6686   Yes               1\n",
      "\n",
      "[6687 rows x 2 columns]\n"
     ]
    }
   ],
   "source": [
    "#create df contains 'Churn' and'CustServ_Calls' columns only\n",
    "CC = telco[['Churn','CustServ_Calls']]\n",
    "\n",
    "print(CC)"
   ]
  },
  {
   "cell_type": "code",
   "execution_count": 133,
   "id": "5329cb79",
   "metadata": {},
   "outputs": [
    {
     "name": "stdout",
     "output_type": "stream",
     "text": [
      "       CustServ_Calls\n",
      "Churn                \n",
      "No           0.372112\n",
      "Yes          2.395880\n"
     ]
    }
   ],
   "source": [
    "# Group telco by 'Churn' and compute the mean\n",
    "print(CC.groupby(['Churn']).mean())"
   ]
  },
  {
   "cell_type": "code",
   "execution_count": 134,
   "id": "466ade49",
   "metadata": {},
   "outputs": [
    {
     "name": "stdout",
     "output_type": "stream",
     "text": [
      "       CustServ_Calls\n",
      "Churn                \n",
      "No           0.710821\n",
      "Yes          1.745592\n"
     ]
    }
   ],
   "source": [
    "# Group telco by 'Churn' and compute the standard deviation\n",
    "print(CC.groupby(['Churn']).std())"
   ]
  },
  {
   "cell_type": "code",
   "execution_count": 135,
   "id": "927a54cd",
   "metadata": {},
   "outputs": [
    {
     "name": "stdout",
     "output_type": "stream",
     "text": [
      "Churn  CustServ_Calls\n",
      "No     0                 3695\n",
      "       1                  611\n",
      "       2                  547\n",
      "       3                   37\n",
      "       4                    1\n",
      "Yes    0                  361\n",
      "       2                  316\n",
      "       4                  292\n",
      "       5                  289\n",
      "       1                  278\n",
      "       3                  260\n",
      "Name: count, dtype: int64\n"
     ]
    }
   ],
   "source": [
    "# Count the number of churners and non-churners by CustServ_Calls  \n",
    "print(telco.groupby('Churn')['CustServ_Calls'].value_counts())"
   ]
  },
  {
   "cell_type": "code",
   "execution_count": 136,
   "id": "07f4930e",
   "metadata": {
    "scrolled": true
   },
   "outputs": [
    {
     "name": "stdout",
     "output_type": "stream",
     "text": [
      "State  Churn\n",
      "AK     No        74\n",
      "       Yes       30\n",
      "AL     No       115\n",
      "       Yes       46\n",
      "AR     No        83\n",
      "               ... \n",
      "WI     Yes       39\n",
      "WV     No       156\n",
      "       Yes       57\n",
      "WY     No       116\n",
      "       Yes       38\n",
      "Name: count, Length: 102, dtype: int64\n"
     ]
    }
   ],
   "source": [
    "# Count the number of churners and non-churners by State\n",
    "print(telco.groupby('State')['Churn'].value_counts())"
   ]
  },
  {
   "cell_type": "code",
   "execution_count": 137,
   "id": "d63b4672",
   "metadata": {
    "scrolled": true
   },
   "outputs": [
    {
     "name": "stdout",
     "output_type": "stream",
     "text": [
      "State  Churn\n",
      "AL     No       115\n",
      "       Yes       46\n",
      "CA     Yes       43\n",
      "       No        25\n",
      "CO     No       103\n",
      "       Yes       29\n",
      "Name: count, dtype: int64\n"
     ]
    }
   ],
   "source": [
    "#count number of churners and non-churners for CA, CO, and AL\n",
    "CA_telco = telco[telco['State'].isin(['CA','CO','AL'])]\n",
    "\n",
    "print(CA_telco.groupby('State')['Churn'].value_counts())"
   ]
  },
  {
   "cell_type": "markdown",
   "id": "5ddfbd6e",
   "metadata": {},
   "source": [
    "## Data Preparation"
   ]
  },
  {
   "cell_type": "code",
   "execution_count": 138,
   "id": "2bb52ffd",
   "metadata": {},
   "outputs": [
    {
     "data": {
      "text/plain": [
       "Customer ID                             0\n",
       "Churn                                   0\n",
       "Account_Length                          0\n",
       "Local_Calls                             0\n",
       "Local_Mins                              0\n",
       "Intl_Calls                              0\n",
       "Intl_Mins                               0\n",
       "Intl_Active                             0\n",
       "Intl_Plan                               0\n",
       "Extra_Internationa_ Charges             0\n",
       "CustServ_Calls                          0\n",
       "Avg_Monthly_GB_Download                 0\n",
       "Unlimited Data Plan                     0\n",
       "Extra Data Charges                      0\n",
       "State                                   0\n",
       "Phone Number                            0\n",
       "Gender                                  0\n",
       "Age                                     0\n",
       "Under 30                                0\n",
       "Senior                                  0\n",
       "Group                                   0\n",
       "Device Protection & Online Backup       0\n",
       "Contract Type                           0\n",
       "Payment Method                          0\n",
       "Monthly Charge                          0\n",
       "Total Charges                           0\n",
       "Churn Category                       4918\n",
       "Churn Reason                         4918\n",
       "InternetService                         0\n",
       "DeviceProtection                        0\n",
       "TechSupport                             0\n",
       "StreamingTV                             0\n",
       "StreamingMovies                         0\n",
       "dtype: int64"
      ]
     },
     "execution_count": 138,
     "metadata": {},
     "output_type": "execute_result"
    }
   ],
   "source": [
    "#print number of nulls  in dataset\n",
    "telco.isnull().sum()"
   ]
  },
  {
   "cell_type": "code",
   "execution_count": 139,
   "id": "402bcd5e",
   "metadata": {},
   "outputs": [],
   "source": [
    "#replace nulls with N/A in 'Churn Category' and 'Churn Reason'\n",
    "telco = telco.fillna('N/A')"
   ]
  },
  {
   "cell_type": "code",
   "execution_count": 140,
   "id": "8508f5bf",
   "metadata": {},
   "outputs": [
    {
     "data": {
      "text/plain": [
       "Customer ID                          0\n",
       "Churn                                0\n",
       "Account_Length                       0\n",
       "Local_Calls                          0\n",
       "Local_Mins                           0\n",
       "Intl_Calls                           0\n",
       "Intl_Mins                            0\n",
       "Intl_Active                          0\n",
       "Intl_Plan                            0\n",
       "Extra_Internationa_ Charges          0\n",
       "CustServ_Calls                       0\n",
       "Avg_Monthly_GB_Download              0\n",
       "Unlimited Data Plan                  0\n",
       "Extra Data Charges                   0\n",
       "State                                0\n",
       "Phone Number                         0\n",
       "Gender                               0\n",
       "Age                                  0\n",
       "Under 30                             0\n",
       "Senior                               0\n",
       "Group                                0\n",
       "Device Protection & Online Backup    0\n",
       "Contract Type                        0\n",
       "Payment Method                       0\n",
       "Monthly Charge                       0\n",
       "Total Charges                        0\n",
       "Churn Category                       0\n",
       "Churn Reason                         0\n",
       "InternetService                      0\n",
       "DeviceProtection                     0\n",
       "TechSupport                          0\n",
       "StreamingTV                          0\n",
       "StreamingMovies                      0\n",
       "dtype: int64"
      ]
     },
     "execution_count": 140,
     "metadata": {},
     "output_type": "execute_result"
    }
   ],
   "source": [
    "#check nulls in dataset\n",
    "telco.isnull().sum()"
   ]
  },
  {
   "cell_type": "code",
   "execution_count": 141,
   "id": "f00c6093",
   "metadata": {},
   "outputs": [
    {
     "data": {
      "text/plain": [
       "0"
      ]
     },
     "execution_count": 141,
     "metadata": {},
     "output_type": "execute_result"
    }
   ],
   "source": [
    "#print duplicates in dataset \n",
    "telco.duplicated().sum()"
   ]
  },
  {
   "cell_type": "code",
   "execution_count": 142,
   "id": "d0fe17e1",
   "metadata": {},
   "outputs": [
    {
     "name": "stdout",
     "output_type": "stream",
     "text": [
      "['No' 'Yes']\n",
      "['no' 'yes']\n",
      "['Yes' 'No']\n",
      "['KS' 'OH' 'MO' 'WV' 'RI' 'IA' 'NY' 'ID' 'VT' 'TX' 'CO' 'SC' 'NE' 'IL'\n",
      " 'NH' 'LA' 'AZ' 'OK' 'GA' 'MA' 'MD' 'AR' 'WI' 'OR' 'MI' 'WY' 'VA' 'CA'\n",
      " 'MN' 'SD' 'WA' 'UT' 'NJ' 'NM' 'NV' 'DC' 'IN' 'KY' 'ME' 'MT' 'MS' 'AL'\n",
      " 'FL' 'AK' 'DE' 'TN' 'NC' 'CT' 'PA' 'ND' 'HI']\n",
      "['Female' 'Male' 'Prefer not to say']\n",
      "['No' 'Yes']\n",
      "['No' 'Yes']\n",
      "['No' 'Yes']\n",
      "['No' 'Yes']\n",
      "['Month-to-Month' 'One Year' 'Two Year']\n",
      "['Direct Debit' 'Paper Check' 'Credit Card']\n",
      "['N/A' 'Competitor' 'Other' 'Attitude' 'Dissatisfaction' 'Price']\n",
      "['N/A' 'Competitor made better offer' 'Moved'\n",
      " 'Competitor had better devices'\n",
      " 'Competitor offered higher download speeds' 'Attitude of support person'\n",
      " 'Network reliability' \"Don't know\" 'Service dissatisfaction'\n",
      " 'Product dissatisfaction' 'Poor expertise of online support'\n",
      " 'Price too high' 'Limited range of services'\n",
      " 'Lack of affordable download/upload speed' 'Long distance charges'\n",
      " 'Competitor offered more data' 'Attitude of service provider'\n",
      " 'Poor expertise of phone support' 'Extra data charges' 'Deceased'\n",
      " 'Lack of self-service on Website']\n",
      "['DSL' 'Fiber optic' 'No']\n",
      "['No' 'Yes' 'No internet service']\n",
      "['No' 'Yes' 'No internet service']\n",
      "['No' 'Yes' 'No internet service']\n",
      "['No' 'Yes' 'No internet service']\n"
     ]
    }
   ],
   "source": [
    "#print unique values in columns\n",
    "print(telco['Churn'].unique())\n",
    "print(telco['Intl_Plan'].unique())\n",
    "print(telco['Unlimited Data Plan'].unique())\n",
    "print(telco['State'].unique())\n",
    "print(telco['Gender'].unique())\n",
    "print(telco['Under 30'].unique())\n",
    "print(telco['Senior'].unique())\n",
    "print(telco['Group'].unique())\n",
    "print(telco['Device Protection & Online Backup'].unique())\n",
    "print(telco['Contract Type'].unique())\n",
    "print(telco['Payment Method'].unique())\n",
    "print(telco['Churn Category'].unique())\n",
    "print(telco['Churn Reason'].unique())\n",
    "print(telco['InternetService'].unique())\n",
    "print(telco['DeviceProtection'].unique())\n",
    "print(telco['TechSupport'].unique())\n",
    "print(telco['StreamingTV'].unique())\n",
    "print(telco['StreamingMovies'].unique())\n",
    "\n"
   ]
  },
  {
   "cell_type": "code",
   "execution_count": 143,
   "id": "98a4b72c",
   "metadata": {},
   "outputs": [
    {
     "data": {
      "text/plain": [
       "0    0\n",
       "1    0\n",
       "2    0\n",
       "3    0\n",
       "4    0\n",
       "Name: Churn, dtype: int64"
      ]
     },
     "execution_count": 143,
     "metadata": {},
     "output_type": "execute_result"
    }
   ],
   "source": [
    "# Replace 'no' with 0 and 'yes' with 1 in 'Churn'\n",
    "telco['Churn'] = telco['Churn'].replace({'No':0,'Yes':1})\n",
    "\n",
    "#check values\n",
    "telco['Churn'].head()"
   ]
  },
  {
   "cell_type": "code",
   "execution_count": 144,
   "id": "07ef4f4a",
   "metadata": {},
   "outputs": [
    {
     "data": {
      "text/plain": [
       "0    0\n",
       "1    0\n",
       "2    1\n",
       "3    1\n",
       "4    1\n",
       "Name: Intl_Plan, dtype: int64"
      ]
     },
     "execution_count": 144,
     "metadata": {},
     "output_type": "execute_result"
    }
   ],
   "source": [
    "# Replace 'no' with 0 and 'yes' with 1 in 'Intl_Plan'\n",
    "telco['Intl_Plan'] = telco['Intl_Plan'].replace({'no':0,'yes':1})\n",
    "\n",
    "#check values\n",
    "telco['Intl_Plan'].head()"
   ]
  },
  {
   "cell_type": "code",
   "execution_count": 145,
   "id": "b02480e1",
   "metadata": {},
   "outputs": [
    {
     "data": {
      "text/plain": [
       "0    1\n",
       "1    1\n",
       "2    1\n",
       "3    1\n",
       "4    1\n",
       "Name: Unlimited Data Plan, dtype: int64"
      ]
     },
     "execution_count": 145,
     "metadata": {},
     "output_type": "execute_result"
    }
   ],
   "source": [
    "# Replace 'no' with 0 and 'yes' with 1 in 'Unlimited Data Plan'\n",
    "telco['Unlimited Data Plan'] = telco['Unlimited Data Plan'].replace({'No':0,'Yes':1})\n",
    "\n",
    "#check values\n",
    "telco['Unlimited Data Plan'].head()"
   ]
  },
  {
   "cell_type": "code",
   "execution_count": 146,
   "id": "45b7ef7b",
   "metadata": {},
   "outputs": [
    {
     "data": {
      "text/plain": [
       "0    0\n",
       "1    0\n",
       "2    0\n",
       "3    0\n",
       "4    0\n",
       "Name: Under 30, dtype: int64"
      ]
     },
     "execution_count": 146,
     "metadata": {},
     "output_type": "execute_result"
    }
   ],
   "source": [
    "# Replace 'no' with 0 and 'yes' with 1 in 'Under 30'\n",
    "telco['Under 30'] = telco['Under 30'].replace({'No':0,'Yes':1})\n",
    "\n",
    "#check values\n",
    "telco['Under 30'].head()"
   ]
  },
  {
   "cell_type": "code",
   "execution_count": 147,
   "id": "05f97a37",
   "metadata": {},
   "outputs": [
    {
     "data": {
      "text/plain": [
       "0    0\n",
       "1    0\n",
       "2    0\n",
       "3    0\n",
       "4    0\n",
       "Name: Senior, dtype: int64"
      ]
     },
     "execution_count": 147,
     "metadata": {},
     "output_type": "execute_result"
    }
   ],
   "source": [
    "# Replace 'no' with 0 and 'yes' with 1 in 'Senior'\n",
    "telco['Senior'] = telco['Senior'].replace({'No':0,'Yes':1})\n",
    "\n",
    "#check values\n",
    "telco['Senior'].head()"
   ]
  },
  {
   "cell_type": "code",
   "execution_count": 148,
   "id": "10b10af7",
   "metadata": {},
   "outputs": [
    {
     "data": {
      "text/plain": [
       "0    0\n",
       "1    0\n",
       "2    0\n",
       "3    0\n",
       "4    0\n",
       "Name: Group, dtype: int64"
      ]
     },
     "execution_count": 148,
     "metadata": {},
     "output_type": "execute_result"
    }
   ],
   "source": [
    "# Replace 'no' with 0 and 'yes' with 1 in 'Group'\n",
    "telco['Group'] = telco['Group'].replace({'No':0,'Yes':1})\n",
    "\n",
    "#check values\n",
    "telco['Group'].head()"
   ]
  },
  {
   "cell_type": "code",
   "execution_count": 149,
   "id": "087cb11b",
   "metadata": {},
   "outputs": [
    {
     "data": {
      "text/plain": [
       "0    0\n",
       "1    1\n",
       "2    1\n",
       "3    0\n",
       "4    0\n",
       "Name: Device Protection & Online Backup, dtype: int64"
      ]
     },
     "execution_count": 149,
     "metadata": {},
     "output_type": "execute_result"
    }
   ],
   "source": [
    "# Replace 'no' with 0 and 'yes' with 1 in 'Device Protection & Online Backup'\n",
    "telco['Device Protection & Online Backup'] = telco['Device Protection & Online Backup'].replace({'No':0,'Yes':1})\n",
    "\n",
    "#check values\n",
    "telco['Device Protection & Online Backup'].head()"
   ]
  },
  {
   "cell_type": "code",
   "execution_count": 236,
   "id": "c94287d4",
   "metadata": {},
   "outputs": [],
   "source": [
    "# Save the DataFrame to a new CSV file\n",
    "telco.to_csv('G:\\Projects\\TelcoCustomerChurn\\preprocessed.csv', index=False)"
   ]
  },
  {
   "cell_type": "code",
   "execution_count": 150,
   "id": "f8f13bdd",
   "metadata": {},
   "outputs": [
    {
     "data": {
      "text/html": [
       "<div>\n",
       "<style scoped>\n",
       "    .dataframe tbody tr th:only-of-type {\n",
       "        vertical-align: middle;\n",
       "    }\n",
       "\n",
       "    .dataframe tbody tr th {\n",
       "        vertical-align: top;\n",
       "    }\n",
       "\n",
       "    .dataframe thead th {\n",
       "        text-align: right;\n",
       "    }\n",
       "</style>\n",
       "<table border=\"1\" class=\"dataframe\">\n",
       "  <thead>\n",
       "    <tr style=\"text-align: right;\">\n",
       "      <th></th>\n",
       "      <th>Churn</th>\n",
       "      <th>Account_Length</th>\n",
       "      <th>Local_Calls</th>\n",
       "      <th>Local_Mins</th>\n",
       "      <th>Intl_Calls</th>\n",
       "      <th>Intl_Mins</th>\n",
       "      <th>Intl_Plan</th>\n",
       "      <th>Extra_Internationa_ Charges</th>\n",
       "      <th>CustServ_Calls</th>\n",
       "      <th>Avg_Monthly_GB_Download</th>\n",
       "      <th>Unlimited Data Plan</th>\n",
       "      <th>Extra Data Charges</th>\n",
       "      <th>Age</th>\n",
       "      <th>Under 30</th>\n",
       "      <th>Senior</th>\n",
       "      <th>Group</th>\n",
       "      <th>Device Protection &amp; Online Backup</th>\n",
       "      <th>Monthly Charge</th>\n",
       "      <th>Total Charges</th>\n",
       "    </tr>\n",
       "  </thead>\n",
       "  <tbody>\n",
       "    <tr>\n",
       "      <th>count</th>\n",
       "      <td>6687.000000</td>\n",
       "      <td>6687.000000</td>\n",
       "      <td>6687.000000</td>\n",
       "      <td>6687.000000</td>\n",
       "      <td>6687.000000</td>\n",
       "      <td>6687.000000</td>\n",
       "      <td>6687.000000</td>\n",
       "      <td>6687.000000</td>\n",
       "      <td>6687.000000</td>\n",
       "      <td>6687.000000</td>\n",
       "      <td>6687.000000</td>\n",
       "      <td>6687.000000</td>\n",
       "      <td>6687.000000</td>\n",
       "      <td>6687.000000</td>\n",
       "      <td>6687.000000</td>\n",
       "      <td>6687.000000</td>\n",
       "      <td>6687.000000</td>\n",
       "      <td>6687.000000</td>\n",
       "      <td>6687.000000</td>\n",
       "    </tr>\n",
       "    <tr>\n",
       "      <th>mean</th>\n",
       "      <td>0.268581</td>\n",
       "      <td>32.337820</td>\n",
       "      <td>130.974129</td>\n",
       "      <td>322.752864</td>\n",
       "      <td>51.097524</td>\n",
       "      <td>130.070624</td>\n",
       "      <td>0.097353</td>\n",
       "      <td>33.641783</td>\n",
       "      <td>0.915657</td>\n",
       "      <td>6.696276</td>\n",
       "      <td>0.672050</td>\n",
       "      <td>3.374458</td>\n",
       "      <td>47.448632</td>\n",
       "      <td>0.192463</td>\n",
       "      <td>0.183490</td>\n",
       "      <td>0.227456</td>\n",
       "      <td>0.343054</td>\n",
       "      <td>31.030357</td>\n",
       "      <td>1083.755645</td>\n",
       "    </tr>\n",
       "    <tr>\n",
       "      <th>std</th>\n",
       "      <td>0.443254</td>\n",
       "      <td>24.595689</td>\n",
       "      <td>121.893966</td>\n",
       "      <td>288.619931</td>\n",
       "      <td>103.592369</td>\n",
       "      <td>243.527828</td>\n",
       "      <td>0.296460</td>\n",
       "      <td>76.346828</td>\n",
       "      <td>1.411484</td>\n",
       "      <td>7.454339</td>\n",
       "      <td>0.469502</td>\n",
       "      <td>12.565309</td>\n",
       "      <td>16.969893</td>\n",
       "      <td>0.394264</td>\n",
       "      <td>0.387097</td>\n",
       "      <td>0.419221</td>\n",
       "      <td>0.474765</td>\n",
       "      <td>16.288147</td>\n",
       "      <td>1127.074863</td>\n",
       "    </tr>\n",
       "    <tr>\n",
       "      <th>min</th>\n",
       "      <td>0.000000</td>\n",
       "      <td>1.000000</td>\n",
       "      <td>1.000000</td>\n",
       "      <td>4.000000</td>\n",
       "      <td>0.000000</td>\n",
       "      <td>0.000000</td>\n",
       "      <td>0.000000</td>\n",
       "      <td>0.000000</td>\n",
       "      <td>0.000000</td>\n",
       "      <td>0.000000</td>\n",
       "      <td>0.000000</td>\n",
       "      <td>0.000000</td>\n",
       "      <td>19.000000</td>\n",
       "      <td>0.000000</td>\n",
       "      <td>0.000000</td>\n",
       "      <td>0.000000</td>\n",
       "      <td>0.000000</td>\n",
       "      <td>5.000000</td>\n",
       "      <td>6.000000</td>\n",
       "    </tr>\n",
       "    <tr>\n",
       "      <th>25%</th>\n",
       "      <td>0.000000</td>\n",
       "      <td>9.000000</td>\n",
       "      <td>31.000000</td>\n",
       "      <td>76.900000</td>\n",
       "      <td>0.000000</td>\n",
       "      <td>0.000000</td>\n",
       "      <td>0.000000</td>\n",
       "      <td>0.000000</td>\n",
       "      <td>0.000000</td>\n",
       "      <td>1.000000</td>\n",
       "      <td>0.000000</td>\n",
       "      <td>0.000000</td>\n",
       "      <td>33.000000</td>\n",
       "      <td>0.000000</td>\n",
       "      <td>0.000000</td>\n",
       "      <td>0.000000</td>\n",
       "      <td>0.000000</td>\n",
       "      <td>16.000000</td>\n",
       "      <td>181.000000</td>\n",
       "    </tr>\n",
       "    <tr>\n",
       "      <th>50%</th>\n",
       "      <td>0.000000</td>\n",
       "      <td>29.000000</td>\n",
       "      <td>98.000000</td>\n",
       "      <td>250.500000</td>\n",
       "      <td>0.000000</td>\n",
       "      <td>0.000000</td>\n",
       "      <td>0.000000</td>\n",
       "      <td>0.000000</td>\n",
       "      <td>0.000000</td>\n",
       "      <td>5.000000</td>\n",
       "      <td>1.000000</td>\n",
       "      <td>0.000000</td>\n",
       "      <td>47.000000</td>\n",
       "      <td>0.000000</td>\n",
       "      <td>0.000000</td>\n",
       "      <td>0.000000</td>\n",
       "      <td>0.000000</td>\n",
       "      <td>31.000000</td>\n",
       "      <td>647.000000</td>\n",
       "    </tr>\n",
       "    <tr>\n",
       "      <th>75%</th>\n",
       "      <td>1.000000</td>\n",
       "      <td>55.000000</td>\n",
       "      <td>199.000000</td>\n",
       "      <td>498.050000</td>\n",
       "      <td>52.000000</td>\n",
       "      <td>140.400000</td>\n",
       "      <td>0.000000</td>\n",
       "      <td>16.400000</td>\n",
       "      <td>2.000000</td>\n",
       "      <td>9.000000</td>\n",
       "      <td>1.000000</td>\n",
       "      <td>0.000000</td>\n",
       "      <td>60.000000</td>\n",
       "      <td>0.000000</td>\n",
       "      <td>0.000000</td>\n",
       "      <td>0.000000</td>\n",
       "      <td>1.000000</td>\n",
       "      <td>43.000000</td>\n",
       "      <td>1732.500000</td>\n",
       "    </tr>\n",
       "    <tr>\n",
       "      <th>max</th>\n",
       "      <td>1.000000</td>\n",
       "      <td>77.000000</td>\n",
       "      <td>918.000000</td>\n",
       "      <td>1234.200000</td>\n",
       "      <td>1120.000000</td>\n",
       "      <td>1372.500000</td>\n",
       "      <td>1.000000</td>\n",
       "      <td>585.800000</td>\n",
       "      <td>5.000000</td>\n",
       "      <td>43.000000</td>\n",
       "      <td>1.000000</td>\n",
       "      <td>99.000000</td>\n",
       "      <td>85.000000</td>\n",
       "      <td>1.000000</td>\n",
       "      <td>1.000000</td>\n",
       "      <td>1.000000</td>\n",
       "      <td>1.000000</td>\n",
       "      <td>78.000000</td>\n",
       "      <td>5574.000000</td>\n",
       "    </tr>\n",
       "  </tbody>\n",
       "</table>\n",
       "</div>"
      ],
      "text/plain": [
       "             Churn  Account_Length  Local_Calls   Local_Mins   Intl_Calls   \n",
       "count  6687.000000     6687.000000  6687.000000  6687.000000  6687.000000  \\\n",
       "mean      0.268581       32.337820   130.974129   322.752864    51.097524   \n",
       "std       0.443254       24.595689   121.893966   288.619931   103.592369   \n",
       "min       0.000000        1.000000     1.000000     4.000000     0.000000   \n",
       "25%       0.000000        9.000000    31.000000    76.900000     0.000000   \n",
       "50%       0.000000       29.000000    98.000000   250.500000     0.000000   \n",
       "75%       1.000000       55.000000   199.000000   498.050000    52.000000   \n",
       "max       1.000000       77.000000   918.000000  1234.200000  1120.000000   \n",
       "\n",
       "         Intl_Mins    Intl_Plan  Extra_Internationa_ Charges  CustServ_Calls   \n",
       "count  6687.000000  6687.000000                  6687.000000     6687.000000  \\\n",
       "mean    130.070624     0.097353                    33.641783        0.915657   \n",
       "std     243.527828     0.296460                    76.346828        1.411484   \n",
       "min       0.000000     0.000000                     0.000000        0.000000   \n",
       "25%       0.000000     0.000000                     0.000000        0.000000   \n",
       "50%       0.000000     0.000000                     0.000000        0.000000   \n",
       "75%     140.400000     0.000000                    16.400000        2.000000   \n",
       "max    1372.500000     1.000000                   585.800000        5.000000   \n",
       "\n",
       "       Avg_Monthly_GB_Download  Unlimited Data Plan  Extra Data Charges   \n",
       "count              6687.000000          6687.000000         6687.000000  \\\n",
       "mean                  6.696276             0.672050            3.374458   \n",
       "std                   7.454339             0.469502           12.565309   \n",
       "min                   0.000000             0.000000            0.000000   \n",
       "25%                   1.000000             0.000000            0.000000   \n",
       "50%                   5.000000             1.000000            0.000000   \n",
       "75%                   9.000000             1.000000            0.000000   \n",
       "max                  43.000000             1.000000           99.000000   \n",
       "\n",
       "               Age     Under 30       Senior        Group   \n",
       "count  6687.000000  6687.000000  6687.000000  6687.000000  \\\n",
       "mean     47.448632     0.192463     0.183490     0.227456   \n",
       "std      16.969893     0.394264     0.387097     0.419221   \n",
       "min      19.000000     0.000000     0.000000     0.000000   \n",
       "25%      33.000000     0.000000     0.000000     0.000000   \n",
       "50%      47.000000     0.000000     0.000000     0.000000   \n",
       "75%      60.000000     0.000000     0.000000     0.000000   \n",
       "max      85.000000     1.000000     1.000000     1.000000   \n",
       "\n",
       "       Device Protection & Online Backup  Monthly Charge  Total Charges  \n",
       "count                        6687.000000     6687.000000    6687.000000  \n",
       "mean                            0.343054       31.030357    1083.755645  \n",
       "std                             0.474765       16.288147    1127.074863  \n",
       "min                             0.000000        5.000000       6.000000  \n",
       "25%                             0.000000       16.000000     181.000000  \n",
       "50%                             0.000000       31.000000     647.000000  \n",
       "75%                             1.000000       43.000000    1732.500000  \n",
       "max                             1.000000       78.000000    5574.000000  "
      ]
     },
     "execution_count": 150,
     "metadata": {},
     "output_type": "execute_result"
    }
   ],
   "source": [
    "#display summary statistics\n",
    "telco.describe()"
   ]
  },
  {
   "cell_type": "markdown",
   "id": "32e61210",
   "metadata": {},
   "source": [
    "## Data Exploration"
   ]
  },
  {
   "cell_type": "code",
   "execution_count": 78,
   "id": "454676cf",
   "metadata": {},
   "outputs": [
    {
     "name": "stderr",
     "output_type": "stream",
     "text": [
      "C:\\Users\\united\\AppData\\Local\\Temp\\ipykernel_17208\\1277426326.py:2: UserWarning: \n",
      "\n",
      "`distplot` is a deprecated function and will be removed in seaborn v0.14.0.\n",
      "\n",
      "Please adapt your code to use either `displot` (a figure-level function with\n",
      "similar flexibility) or `histplot` (an axes-level function for histograms).\n",
      "\n",
      "For a guide to updating your code to use the new functions, please see\n",
      "https://gist.github.com/mwaskom/de44147ed2974457ad6372750bbe5751\n",
      "\n",
      "  sns.distplot(telco['Account_Length'])\n"
     ]
    },
    {
     "data": {
      "image/png": "[encoded data removed]",
      "text/plain": [
       "<Figure size 640x480 with 1 Axes>"
      ]
     },
     "metadata": {},
     "output_type": "display_data"
    }
   ],
   "source": [
    "# Visualize the distribution of 'Account_Length'\n",
    "sns.distplot(telco['Account_Length'])\n",
    "\n",
    "# Display the plot\n",
    "plt.show()"
   ]
  },
  {
   "cell_type": "code",
   "execution_count": 79,
   "id": "174a508c",
   "metadata": {},
   "outputs": [
    {
     "name": "stderr",
     "output_type": "stream",
     "text": [
      "C:\\Users\\united\\AppData\\Local\\Temp\\ipykernel_17208\\2500426606.py:2: UserWarning: \n",
      "\n",
      "`distplot` is a deprecated function and will be removed in seaborn v0.14.0.\n",
      "\n",
      "Please adapt your code to use either `displot` (a figure-level function with\n",
      "similar flexibility) or `histplot` (an axes-level function for histograms).\n",
      "\n",
      "For a guide to updating your code to use the new functions, please see\n",
      "https://gist.github.com/mwaskom/de44147ed2974457ad6372750bbe5751\n",
      "\n",
      "  sns.distplot(telco['Local_Calls'])\n"
     ]
    },
    {
     "data": {
      "image/png": "[encoded data removed]",
      "text/plain": [
       "<Figure size 640x480 with 1 Axes>"
      ]
     },
     "metadata": {},
     "output_type": "display_data"
    }
   ],
   "source": [
    "# Visualize the distribution of 'Local_Calls'\n",
    "sns.distplot(telco['Local_Calls'])\n",
    "\n",
    "# Display the plot\n",
    "plt.show()"
   ]
  },
  {
   "cell_type": "code",
   "execution_count": 80,
   "id": "28d3eccc",
   "metadata": {},
   "outputs": [
    {
     "name": "stderr",
     "output_type": "stream",
     "text": [
      "C:\\Users\\united\\AppData\\Local\\Temp\\ipykernel_17208\\403980147.py:2: UserWarning: \n",
      "\n",
      "`distplot` is a deprecated function and will be removed in seaborn v0.14.0.\n",
      "\n",
      "Please adapt your code to use either `displot` (a figure-level function with\n",
      "similar flexibility) or `histplot` (an axes-level function for histograms).\n",
      "\n",
      "For a guide to updating your code to use the new functions, please see\n",
      "https://gist.github.com/mwaskom/de44147ed2974457ad6372750bbe5751\n",
      "\n",
      "  sns.distplot(telco['Intl_Calls'])\n"
     ]
    },
    {
     "data": {
      "image/png": "[encoded data removed]",
      "text/plain": [
       "<Figure size 640x480 with 1 Axes>"
      ]
     },
     "metadata": {},
     "output_type": "display_data"
    }
   ],
   "source": [
    "# Visualize the distribution of 'Intl_Calls'\n",
    "sns.distplot(telco['Intl_Calls'])\n",
    "\n",
    "# Display the plot\n",
    "plt.show()"
   ]
  },
  {
   "cell_type": "code",
   "execution_count": 82,
   "id": "bd291793",
   "metadata": {},
   "outputs": [
    {
     "name": "stderr",
     "output_type": "stream",
     "text": [
      "C:\\Users\\united\\AppData\\Local\\Temp\\ipykernel_17208\\410217511.py:2: UserWarning: \n",
      "\n",
      "`distplot` is a deprecated function and will be removed in seaborn v0.14.0.\n",
      "\n",
      "Please adapt your code to use either `displot` (a figure-level function with\n",
      "similar flexibility) or `histplot` (an axes-level function for histograms).\n",
      "\n",
      "For a guide to updating your code to use the new functions, please see\n",
      "https://gist.github.com/mwaskom/de44147ed2974457ad6372750bbe5751\n",
      "\n",
      "  sns.distplot(telco['Age'])\n"
     ]
    },
    {
     "data": {
      "image/png": "[encoded data removed]",
      "text/plain": [
       "<Figure size 640x480 with 1 Axes>"
      ]
     },
     "metadata": {},
     "output_type": "display_data"
    }
   ],
   "source": [
    "# Visualize the distribution of 'Age'\n",
    "sns.distplot(telco['Age'])\n",
    "\n",
    "# Display the plot\n",
    "plt.show()"
   ]
  },
  {
   "cell_type": "code",
   "execution_count": 83,
   "id": "1159844f",
   "metadata": {},
   "outputs": [
    {
     "name": "stderr",
     "output_type": "stream",
     "text": [
      "C:\\Users\\united\\AppData\\Local\\Temp\\ipykernel_17208\\3469426618.py:2: UserWarning: \n",
      "\n",
      "`distplot` is a deprecated function and will be removed in seaborn v0.14.0.\n",
      "\n",
      "Please adapt your code to use either `displot` (a figure-level function with\n",
      "similar flexibility) or `histplot` (an axes-level function for histograms).\n",
      "\n",
      "For a guide to updating your code to use the new functions, please see\n",
      "https://gist.github.com/mwaskom/de44147ed2974457ad6372750bbe5751\n",
      "\n",
      "  sns.distplot(telco['Total Charges'])\n"
     ]
    },
    {
     "data": {
      "image/png": "[encoded data removed]",
      "text/plain": [
       "<Figure size 640x480 with 1 Axes>"
      ]
     },
     "metadata": {},
     "output_type": "display_data"
    }
   ],
   "source": [
    "# Visualize the distribution of 'Total Charges'\n",
    "sns.distplot(telco['Total Charges'])\n",
    "\n",
    "# Display the plot\n",
    "plt.show()"
   ]
  },
  {
   "cell_type": "code",
   "execution_count": 100,
   "id": "0b0907f7",
   "metadata": {},
   "outputs": [
    {
     "data": {
      "image/png": "[encoded data removed]",
      "text/plain": [
       "<Figure size 640x480 with 1 Axes>"
      ]
     },
     "metadata": {},
     "output_type": "display_data"
    }
   ],
   "source": [
    "#create boxplot to know if customers who make more customer service calls tend to churn more?\n",
    "sns.boxplot(x = 'Churn',\n",
    "            y= 'CustServ_Calls',\n",
    "            data = telco)\n",
    "\n",
    "#displat\n",
    "plt.show()"
   ]
  },
  {
   "cell_type": "code",
   "execution_count": 101,
   "id": "78830596",
   "metadata": {},
   "outputs": [
    {
     "data": {
      "image/png": "[encoded data removed]",
      "text/plain": [
       "<Figure size 640x480 with 1 Axes>"
      ]
     },
     "metadata": {},
     "output_type": "display_data"
    }
   ],
   "source": [
    "#remove outliers\n",
    "sns.boxplot(x = 'Churn',\n",
    "            y= 'CustServ_Calls',\n",
    "            data = telco\n",
    "           ,sym=\"\")\n",
    "\n",
    "#displat\n",
    "plt.show()"
   ]
  },
  {
   "cell_type": "code",
   "execution_count": 104,
   "id": "6dab57d8",
   "metadata": {},
   "outputs": [
    {
     "data": {
      "image/png": "[encoded data removed]",
      "text/plain": [
       "<Figure size 640x480 with 1 Axes>"
      ]
     },
     "metadata": {},
     "output_type": "display_data"
    }
   ],
   "source": [
    "# Add \"Device Protection & Online Backup\" as a third variable\n",
    "sns.boxplot(x = 'Churn',\n",
    "            y = 'CustServ_Calls',\n",
    "            data = telco,\n",
    "            hue = \"Device Protection & Online Backup\")\n",
    "\n",
    "# Display the plot\n",
    "plt.show()"
   ]
  },
  {
   "cell_type": "code",
   "execution_count": 105,
   "id": "98a5821a",
   "metadata": {},
   "outputs": [
    {
     "data": {
      "image/png": "[encoded data removed]",
      "text/plain": [
       "<Figure size 640x480 with 1 Axes>"
      ]
     },
     "metadata": {},
     "output_type": "display_data"
    }
   ],
   "source": [
    "# Add \"Intl_Plan\" as a third variable\n",
    "sns.boxplot(x = 'Churn',\n",
    "            y = 'CustServ_Calls',\n",
    "            data = telco,\n",
    "            hue = \"Intl_Plan\")\n",
    "\n",
    "# Display the plot\n",
    "plt.show()"
   ]
  },
  {
   "cell_type": "markdown",
   "id": "eca85c62",
   "metadata": {},
   "source": [
    "#### Conclusion\n",
    "It looks like customers who do churn end up leaving more customer service calls, unless these customers also have an international plan, in which case they leave more customer service calls. This type of information is really useful in better understanding the drivers of churn. "
   ]
  },
  {
   "cell_type": "code",
   "execution_count": 22,
   "id": "849b4736",
   "metadata": {},
   "outputs": [
    {
     "data": {
      "text/html": [
       "<div>\n",
       "<style scoped>\n",
       "    .dataframe tbody tr th:only-of-type {\n",
       "        vertical-align: middle;\n",
       "    }\n",
       "\n",
       "    .dataframe tbody tr th {\n",
       "        vertical-align: top;\n",
       "    }\n",
       "\n",
       "    .dataframe thead th {\n",
       "        text-align: right;\n",
       "    }\n",
       "</style>\n",
       "<table border=\"1\" class=\"dataframe\">\n",
       "  <thead>\n",
       "    <tr style=\"text-align: right;\">\n",
       "      <th></th>\n",
       "      <th>AK</th>\n",
       "      <th>AL</th>\n",
       "      <th>AR</th>\n",
       "      <th>AZ</th>\n",
       "      <th>CA</th>\n",
       "      <th>CO</th>\n",
       "      <th>CT</th>\n",
       "      <th>DC</th>\n",
       "      <th>DE</th>\n",
       "      <th>FL</th>\n",
       "      <th>...</th>\n",
       "      <th>SD</th>\n",
       "      <th>TN</th>\n",
       "      <th>TX</th>\n",
       "      <th>UT</th>\n",
       "      <th>VA</th>\n",
       "      <th>VT</th>\n",
       "      <th>WA</th>\n",
       "      <th>WI</th>\n",
       "      <th>WV</th>\n",
       "      <th>WY</th>\n",
       "    </tr>\n",
       "  </thead>\n",
       "  <tbody>\n",
       "    <tr>\n",
       "      <th>0</th>\n",
       "      <td>False</td>\n",
       "      <td>False</td>\n",
       "      <td>False</td>\n",
       "      <td>False</td>\n",
       "      <td>False</td>\n",
       "      <td>False</td>\n",
       "      <td>False</td>\n",
       "      <td>False</td>\n",
       "      <td>False</td>\n",
       "      <td>False</td>\n",
       "      <td>...</td>\n",
       "      <td>False</td>\n",
       "      <td>False</td>\n",
       "      <td>False</td>\n",
       "      <td>False</td>\n",
       "      <td>False</td>\n",
       "      <td>False</td>\n",
       "      <td>False</td>\n",
       "      <td>False</td>\n",
       "      <td>False</td>\n",
       "      <td>False</td>\n",
       "    </tr>\n",
       "    <tr>\n",
       "      <th>1</th>\n",
       "      <td>False</td>\n",
       "      <td>False</td>\n",
       "      <td>False</td>\n",
       "      <td>False</td>\n",
       "      <td>False</td>\n",
       "      <td>False</td>\n",
       "      <td>False</td>\n",
       "      <td>False</td>\n",
       "      <td>False</td>\n",
       "      <td>False</td>\n",
       "      <td>...</td>\n",
       "      <td>False</td>\n",
       "      <td>False</td>\n",
       "      <td>False</td>\n",
       "      <td>False</td>\n",
       "      <td>False</td>\n",
       "      <td>False</td>\n",
       "      <td>False</td>\n",
       "      <td>False</td>\n",
       "      <td>False</td>\n",
       "      <td>False</td>\n",
       "    </tr>\n",
       "    <tr>\n",
       "      <th>2</th>\n",
       "      <td>False</td>\n",
       "      <td>False</td>\n",
       "      <td>False</td>\n",
       "      <td>False</td>\n",
       "      <td>False</td>\n",
       "      <td>False</td>\n",
       "      <td>False</td>\n",
       "      <td>False</td>\n",
       "      <td>False</td>\n",
       "      <td>False</td>\n",
       "      <td>...</td>\n",
       "      <td>False</td>\n",
       "      <td>False</td>\n",
       "      <td>False</td>\n",
       "      <td>False</td>\n",
       "      <td>False</td>\n",
       "      <td>False</td>\n",
       "      <td>False</td>\n",
       "      <td>False</td>\n",
       "      <td>False</td>\n",
       "      <td>False</td>\n",
       "    </tr>\n",
       "    <tr>\n",
       "      <th>3</th>\n",
       "      <td>False</td>\n",
       "      <td>False</td>\n",
       "      <td>False</td>\n",
       "      <td>False</td>\n",
       "      <td>False</td>\n",
       "      <td>False</td>\n",
       "      <td>False</td>\n",
       "      <td>False</td>\n",
       "      <td>False</td>\n",
       "      <td>False</td>\n",
       "      <td>...</td>\n",
       "      <td>False</td>\n",
       "      <td>False</td>\n",
       "      <td>False</td>\n",
       "      <td>False</td>\n",
       "      <td>False</td>\n",
       "      <td>False</td>\n",
       "      <td>False</td>\n",
       "      <td>False</td>\n",
       "      <td>False</td>\n",
       "      <td>False</td>\n",
       "    </tr>\n",
       "    <tr>\n",
       "      <th>4</th>\n",
       "      <td>False</td>\n",
       "      <td>False</td>\n",
       "      <td>False</td>\n",
       "      <td>False</td>\n",
       "      <td>False</td>\n",
       "      <td>False</td>\n",
       "      <td>False</td>\n",
       "      <td>False</td>\n",
       "      <td>False</td>\n",
       "      <td>False</td>\n",
       "      <td>...</td>\n",
       "      <td>False</td>\n",
       "      <td>False</td>\n",
       "      <td>False</td>\n",
       "      <td>False</td>\n",
       "      <td>False</td>\n",
       "      <td>False</td>\n",
       "      <td>False</td>\n",
       "      <td>False</td>\n",
       "      <td>False</td>\n",
       "      <td>False</td>\n",
       "    </tr>\n",
       "  </tbody>\n",
       "</table>\n",
       "<p>5 rows × 51 columns</p>\n",
       "</div>"
      ],
      "text/plain": [
       "      AK     AL     AR     AZ     CA     CO     CT     DC     DE     FL  ...   \n",
       "0  False  False  False  False  False  False  False  False  False  False  ...  \\\n",
       "1  False  False  False  False  False  False  False  False  False  False  ...   \n",
       "2  False  False  False  False  False  False  False  False  False  False  ...   \n",
       "3  False  False  False  False  False  False  False  False  False  False  ...   \n",
       "4  False  False  False  False  False  False  False  False  False  False  ...   \n",
       "\n",
       "      SD     TN     TX     UT     VA     VT     WA     WI     WV     WY  \n",
       "0  False  False  False  False  False  False  False  False  False  False  \n",
       "1  False  False  False  False  False  False  False  False  False  False  \n",
       "2  False  False  False  False  False  False  False  False  False  False  \n",
       "3  False  False  False  False  False  False  False  False  False  False  \n",
       "4  False  False  False  False  False  False  False  False  False  False  \n",
       "\n",
       "[5 rows x 51 columns]"
      ]
     },
     "execution_count": 22,
     "metadata": {},
     "output_type": "execute_result"
    }
   ],
   "source": [
    "# Perform one hot encoding on 'State'\n",
    "telco_state = pd.get_dummies(telco['State'])\n",
    "\n",
    "# Print the head of telco_state\n",
    "telco_state.head()"
   ]
  },
  {
   "cell_type": "code",
   "execution_count": 151,
   "id": "b234f952",
   "metadata": {},
   "outputs": [
    {
     "data": {
      "text/plain": [
       "Customer ID                           object\n",
       "Churn                                  int64\n",
       "Account_Length                         int64\n",
       "Local_Calls                            int64\n",
       "Local_Mins                           float64\n",
       "Intl_Calls                           float64\n",
       "Intl_Mins                            float64\n",
       "Intl_Active                           object\n",
       "Intl_Plan                              int64\n",
       "Extra_Internationa_ Charges          float64\n",
       "CustServ_Calls                         int64\n",
       "Avg_Monthly_GB_Download                int64\n",
       "Unlimited Data Plan                    int64\n",
       "Extra Data Charges                     int64\n",
       "State                                 object\n",
       "Phone Number                          object\n",
       "Gender                                object\n",
       "Age                                    int64\n",
       "Under 30                               int64\n",
       "Senior                                 int64\n",
       "Group                                  int64\n",
       "Device Protection & Online Backup      int64\n",
       "Contract Type                         object\n",
       "Payment Method                        object\n",
       "Monthly Charge                         int64\n",
       "Total Charges                          int64\n",
       "Churn Category                        object\n",
       "Churn Reason                          object\n",
       "InternetService                       object\n",
       "DeviceProtection                      object\n",
       "TechSupport                           object\n",
       "StreamingTV                           object\n",
       "StreamingMovies                       object\n",
       "dtype: object"
      ]
     },
     "execution_count": 151,
     "metadata": {},
     "output_type": "execute_result"
    }
   ],
   "source": [
    "telco.dtypes"
   ]
  },
  {
   "cell_type": "code",
   "execution_count": 152,
   "id": "a8687e64",
   "metadata": {},
   "outputs": [],
   "source": [
    "telco_features= telco[['Account_Length','Local_Calls','Local_Mins','Intl_Calls','Intl_Mins', 'Intl_Plan','CustServ_Calls','Extra_Internationa_ Charges','Avg_Monthly_GB_Download','Unlimited Data Plan','Extra Data Charges','Age','Under 30','Group','Device Protection & Online Backup','Monthly Charge','Total Charges']]"
   ]
  },
  {
   "cell_type": "code",
   "execution_count": 153,
   "id": "bcbe9b83",
   "metadata": {},
   "outputs": [
    {
     "data": {
      "text/html": [
       "<div>\n",
       "<style scoped>\n",
       "    .dataframe tbody tr th:only-of-type {\n",
       "        vertical-align: middle;\n",
       "    }\n",
       "\n",
       "    .dataframe tbody tr th {\n",
       "        vertical-align: top;\n",
       "    }\n",
       "\n",
       "    .dataframe thead th {\n",
       "        text-align: right;\n",
       "    }\n",
       "</style>\n",
       "<table border=\"1\" class=\"dataframe\">\n",
       "  <thead>\n",
       "    <tr style=\"text-align: right;\">\n",
       "      <th></th>\n",
       "      <th>Account_Length</th>\n",
       "      <th>Local_Calls</th>\n",
       "      <th>Local_Mins</th>\n",
       "      <th>Intl_Calls</th>\n",
       "      <th>Intl_Mins</th>\n",
       "      <th>Intl_Plan</th>\n",
       "      <th>CustServ_Calls</th>\n",
       "      <th>Extra_Internationa_ Charges</th>\n",
       "      <th>Avg_Monthly_GB_Download</th>\n",
       "      <th>Unlimited Data Plan</th>\n",
       "      <th>Extra Data Charges</th>\n",
       "      <th>Age</th>\n",
       "      <th>Under 30</th>\n",
       "      <th>Group</th>\n",
       "      <th>Device Protection &amp; Online Backup</th>\n",
       "      <th>Monthly Charge</th>\n",
       "      <th>Total Charges</th>\n",
       "    </tr>\n",
       "  </thead>\n",
       "  <tbody>\n",
       "    <tr>\n",
       "      <th>0</th>\n",
       "      <td>1</td>\n",
       "      <td>3</td>\n",
       "      <td>8.0</td>\n",
       "      <td>0.0</td>\n",
       "      <td>0.0</td>\n",
       "      <td>0</td>\n",
       "      <td>0</td>\n",
       "      <td>0.0</td>\n",
       "      <td>3</td>\n",
       "      <td>1</td>\n",
       "      <td>0</td>\n",
       "      <td>35</td>\n",
       "      <td>0</td>\n",
       "      <td>0</td>\n",
       "      <td>0</td>\n",
       "      <td>10</td>\n",
       "      <td>10</td>\n",
       "    </tr>\n",
       "    <tr>\n",
       "      <th>1</th>\n",
       "      <td>33</td>\n",
       "      <td>179</td>\n",
       "      <td>431.3</td>\n",
       "      <td>0.0</td>\n",
       "      <td>0.0</td>\n",
       "      <td>0</td>\n",
       "      <td>0</td>\n",
       "      <td>0.0</td>\n",
       "      <td>3</td>\n",
       "      <td>1</td>\n",
       "      <td>0</td>\n",
       "      <td>49</td>\n",
       "      <td>0</td>\n",
       "      <td>0</td>\n",
       "      <td>1</td>\n",
       "      <td>21</td>\n",
       "      <td>703</td>\n",
       "    </tr>\n",
       "    <tr>\n",
       "      <th>2</th>\n",
       "      <td>44</td>\n",
       "      <td>82</td>\n",
       "      <td>217.6</td>\n",
       "      <td>0.0</td>\n",
       "      <td>0.0</td>\n",
       "      <td>1</td>\n",
       "      <td>0</td>\n",
       "      <td>0.0</td>\n",
       "      <td>3</td>\n",
       "      <td>1</td>\n",
       "      <td>0</td>\n",
       "      <td>51</td>\n",
       "      <td>0</td>\n",
       "      <td>0</td>\n",
       "      <td>1</td>\n",
       "      <td>23</td>\n",
       "      <td>1014</td>\n",
       "    </tr>\n",
       "    <tr>\n",
       "      <th>3</th>\n",
       "      <td>10</td>\n",
       "      <td>47</td>\n",
       "      <td>111.6</td>\n",
       "      <td>60.0</td>\n",
       "      <td>71.0</td>\n",
       "      <td>1</td>\n",
       "      <td>0</td>\n",
       "      <td>0.0</td>\n",
       "      <td>2</td>\n",
       "      <td>1</td>\n",
       "      <td>0</td>\n",
       "      <td>41</td>\n",
       "      <td>0</td>\n",
       "      <td>0</td>\n",
       "      <td>0</td>\n",
       "      <td>17</td>\n",
       "      <td>177</td>\n",
       "    </tr>\n",
       "    <tr>\n",
       "      <th>4</th>\n",
       "      <td>62</td>\n",
       "      <td>184</td>\n",
       "      <td>621.2</td>\n",
       "      <td>310.0</td>\n",
       "      <td>694.4</td>\n",
       "      <td>1</td>\n",
       "      <td>0</td>\n",
       "      <td>0.0</td>\n",
       "      <td>3</td>\n",
       "      <td>1</td>\n",
       "      <td>0</td>\n",
       "      <td>51</td>\n",
       "      <td>0</td>\n",
       "      <td>0</td>\n",
       "      <td>0</td>\n",
       "      <td>28</td>\n",
       "      <td>1720</td>\n",
       "    </tr>\n",
       "  </tbody>\n",
       "</table>\n",
       "</div>"
      ],
      "text/plain": [
       "   Account_Length  Local_Calls  Local_Mins  Intl_Calls  Intl_Mins  Intl_Plan   \n",
       "0               1            3         8.0         0.0        0.0          0  \\\n",
       "1              33          179       431.3         0.0        0.0          0   \n",
       "2              44           82       217.6         0.0        0.0          1   \n",
       "3              10           47       111.6        60.0       71.0          1   \n",
       "4              62          184       621.2       310.0      694.4          1   \n",
       "\n",
       "   CustServ_Calls  Extra_Internationa_ Charges  Avg_Monthly_GB_Download   \n",
       "0               0                          0.0                        3  \\\n",
       "1               0                          0.0                        3   \n",
       "2               0                          0.0                        3   \n",
       "3               0                          0.0                        2   \n",
       "4               0                          0.0                        3   \n",
       "\n",
       "   Unlimited Data Plan  Extra Data Charges  Age  Under 30  Group   \n",
       "0                    1                   0   35         0      0  \\\n",
       "1                    1                   0   49         0      0   \n",
       "2                    1                   0   51         0      0   \n",
       "3                    1                   0   41         0      0   \n",
       "4                    1                   0   51         0      0   \n",
       "\n",
       "   Device Protection & Online Backup  Monthly Charge  Total Charges  \n",
       "0                                  0              10             10  \n",
       "1                                  1              21            703  \n",
       "2                                  1              23           1014  \n",
       "3                                  0              17            177  \n",
       "4                                  0              28           1720  "
      ]
     },
     "execution_count": 153,
     "metadata": {},
     "output_type": "execute_result"
    }
   ],
   "source": [
    "telco_features.head()"
   ]
  },
  {
   "cell_type": "code",
   "execution_count": 154,
   "id": "dfedd4cc",
   "metadata": {},
   "outputs": [
    {
     "data": {
      "text/html": [
       "<div>\n",
       "<style scoped>\n",
       "    .dataframe tbody tr th:only-of-type {\n",
       "        vertical-align: middle;\n",
       "    }\n",
       "\n",
       "    .dataframe tbody tr th {\n",
       "        vertical-align: top;\n",
       "    }\n",
       "\n",
       "    .dataframe thead th {\n",
       "        text-align: right;\n",
       "    }\n",
       "</style>\n",
       "<table border=\"1\" class=\"dataframe\">\n",
       "  <thead>\n",
       "    <tr style=\"text-align: right;\">\n",
       "      <th></th>\n",
       "      <th>Account_Length</th>\n",
       "      <th>Local_Calls</th>\n",
       "      <th>Local_Mins</th>\n",
       "      <th>Intl_Calls</th>\n",
       "      <th>Intl_Mins</th>\n",
       "      <th>Intl_Plan</th>\n",
       "      <th>CustServ_Calls</th>\n",
       "      <th>Extra_Internationa_ Charges</th>\n",
       "      <th>Avg_Monthly_GB_Download</th>\n",
       "      <th>Unlimited Data Plan</th>\n",
       "      <th>Extra Data Charges</th>\n",
       "      <th>Age</th>\n",
       "      <th>Under 30</th>\n",
       "      <th>Group</th>\n",
       "      <th>Device Protection &amp; Online Backup</th>\n",
       "      <th>Monthly Charge</th>\n",
       "      <th>Total Charges</th>\n",
       "    </tr>\n",
       "  </thead>\n",
       "  <tbody>\n",
       "    <tr>\n",
       "      <th>Account_Length</th>\n",
       "      <td>1.000000</td>\n",
       "      <td>0.808959</td>\n",
       "      <td>0.844664</td>\n",
       "      <td>0.352455</td>\n",
       "      <td>0.374393</td>\n",
       "      <td>-0.007239</td>\n",
       "      <td>-0.220730</td>\n",
       "      <td>0.277557</td>\n",
       "      <td>0.050712</td>\n",
       "      <td>0.032948</td>\n",
       "      <td>0.081634</td>\n",
       "      <td>0.008610</td>\n",
       "      <td>0.007345</td>\n",
       "      <td>0.132379</td>\n",
       "      <td>0.361749</td>\n",
       "      <td>0.199586</td>\n",
       "      <td>0.788632</td>\n",
       "    </tr>\n",
       "    <tr>\n",
       "      <th>Local_Calls</th>\n",
       "      <td>0.808959</td>\n",
       "      <td>1.000000</td>\n",
       "      <td>0.960020</td>\n",
       "      <td>0.281572</td>\n",
       "      <td>0.294704</td>\n",
       "      <td>-0.005745</td>\n",
       "      <td>-0.181444</td>\n",
       "      <td>0.211008</td>\n",
       "      <td>0.048735</td>\n",
       "      <td>0.033283</td>\n",
       "      <td>0.060669</td>\n",
       "      <td>0.000184</td>\n",
       "      <td>0.012608</td>\n",
       "      <td>0.102100</td>\n",
       "      <td>0.296136</td>\n",
       "      <td>0.173866</td>\n",
       "      <td>0.649775</td>\n",
       "    </tr>\n",
       "    <tr>\n",
       "      <th>Local_Mins</th>\n",
       "      <td>0.844664</td>\n",
       "      <td>0.960020</td>\n",
       "      <td>1.000000</td>\n",
       "      <td>0.296339</td>\n",
       "      <td>0.311177</td>\n",
       "      <td>-0.002386</td>\n",
       "      <td>-0.190631</td>\n",
       "      <td>0.223125</td>\n",
       "      <td>0.051573</td>\n",
       "      <td>0.036790</td>\n",
       "      <td>0.058373</td>\n",
       "      <td>-0.002112</td>\n",
       "      <td>0.017717</td>\n",
       "      <td>0.109210</td>\n",
       "      <td>0.312779</td>\n",
       "      <td>0.178922</td>\n",
       "      <td>0.674701</td>\n",
       "    </tr>\n",
       "    <tr>\n",
       "      <th>Intl_Calls</th>\n",
       "      <td>0.352455</td>\n",
       "      <td>0.281572</td>\n",
       "      <td>0.296339</td>\n",
       "      <td>1.000000</td>\n",
       "      <td>0.859406</td>\n",
       "      <td>0.191491</td>\n",
       "      <td>-0.048850</td>\n",
       "      <td>0.672970</td>\n",
       "      <td>0.021693</td>\n",
       "      <td>-0.000285</td>\n",
       "      <td>0.057978</td>\n",
       "      <td>0.001109</td>\n",
       "      <td>0.003425</td>\n",
       "      <td>0.045166</td>\n",
       "      <td>0.110860</td>\n",
       "      <td>0.076029</td>\n",
       "      <td>0.278741</td>\n",
       "    </tr>\n",
       "    <tr>\n",
       "      <th>Intl_Mins</th>\n",
       "      <td>0.374393</td>\n",
       "      <td>0.294704</td>\n",
       "      <td>0.311177</td>\n",
       "      <td>0.859406</td>\n",
       "      <td>1.000000</td>\n",
       "      <td>0.220103</td>\n",
       "      <td>-0.042113</td>\n",
       "      <td>0.770625</td>\n",
       "      <td>0.026615</td>\n",
       "      <td>0.008932</td>\n",
       "      <td>0.048636</td>\n",
       "      <td>0.005234</td>\n",
       "      <td>0.007318</td>\n",
       "      <td>0.049548</td>\n",
       "      <td>0.126928</td>\n",
       "      <td>0.084365</td>\n",
       "      <td>0.297966</td>\n",
       "    </tr>\n",
       "    <tr>\n",
       "      <th>Intl_Plan</th>\n",
       "      <td>-0.007239</td>\n",
       "      <td>-0.005745</td>\n",
       "      <td>-0.002386</td>\n",
       "      <td>0.191491</td>\n",
       "      <td>0.220103</td>\n",
       "      <td>1.000000</td>\n",
       "      <td>-0.009326</td>\n",
       "      <td>-0.144723</td>\n",
       "      <td>-0.027429</td>\n",
       "      <td>-0.008064</td>\n",
       "      <td>-0.017738</td>\n",
       "      <td>0.011087</td>\n",
       "      <td>-0.027247</td>\n",
       "      <td>-0.009717</td>\n",
       "      <td>-0.024789</td>\n",
       "      <td>-0.027126</td>\n",
       "      <td>-0.013127</td>\n",
       "    </tr>\n",
       "    <tr>\n",
       "      <th>CustServ_Calls</th>\n",
       "      <td>-0.220730</td>\n",
       "      <td>-0.181444</td>\n",
       "      <td>-0.190631</td>\n",
       "      <td>-0.048850</td>\n",
       "      <td>-0.042113</td>\n",
       "      <td>-0.009326</td>\n",
       "      <td>1.000000</td>\n",
       "      <td>0.010853</td>\n",
       "      <td>0.018177</td>\n",
       "      <td>0.095477</td>\n",
       "      <td>0.015257</td>\n",
       "      <td>0.076648</td>\n",
       "      <td>-0.027266</td>\n",
       "      <td>-0.168016</td>\n",
       "      <td>-0.034710</td>\n",
       "      <td>0.140808</td>\n",
       "      <td>-0.106737</td>\n",
       "    </tr>\n",
       "    <tr>\n",
       "      <th>Extra_Internationa_ Charges</th>\n",
       "      <td>0.277557</td>\n",
       "      <td>0.211008</td>\n",
       "      <td>0.223125</td>\n",
       "      <td>0.672970</td>\n",
       "      <td>0.770625</td>\n",
       "      <td>-0.144723</td>\n",
       "      <td>0.010853</td>\n",
       "      <td>1.000000</td>\n",
       "      <td>0.029432</td>\n",
       "      <td>0.009663</td>\n",
       "      <td>0.055537</td>\n",
       "      <td>0.004020</td>\n",
       "      <td>0.021343</td>\n",
       "      <td>0.028564</td>\n",
       "      <td>0.103066</td>\n",
       "      <td>0.078809</td>\n",
       "      <td>0.228761</td>\n",
       "    </tr>\n",
       "    <tr>\n",
       "      <th>Avg_Monthly_GB_Download</th>\n",
       "      <td>0.050712</td>\n",
       "      <td>0.048735</td>\n",
       "      <td>0.051573</td>\n",
       "      <td>0.021693</td>\n",
       "      <td>0.026615</td>\n",
       "      <td>-0.027429</td>\n",
       "      <td>0.018177</td>\n",
       "      <td>0.029432</td>\n",
       "      <td>1.000000</td>\n",
       "      <td>0.355855</td>\n",
       "      <td>0.078104</td>\n",
       "      <td>-0.321727</td>\n",
       "      <td>0.439333</td>\n",
       "      <td>0.077629</td>\n",
       "      <td>0.204958</td>\n",
       "      <td>0.293223</td>\n",
       "      <td>0.186505</td>\n",
       "    </tr>\n",
       "    <tr>\n",
       "      <th>Unlimited Data Plan</th>\n",
       "      <td>0.032948</td>\n",
       "      <td>0.033283</td>\n",
       "      <td>0.036790</td>\n",
       "      <td>-0.000285</td>\n",
       "      <td>0.008932</td>\n",
       "      <td>-0.008064</td>\n",
       "      <td>0.095477</td>\n",
       "      <td>0.009663</td>\n",
       "      <td>0.355855</td>\n",
       "      <td>1.000000</td>\n",
       "      <td>-0.384468</td>\n",
       "      <td>0.083534</td>\n",
       "      <td>-0.031454</td>\n",
       "      <td>-0.130845</td>\n",
       "      <td>0.294779</td>\n",
       "      <td>0.520333</td>\n",
       "      <td>0.276516</td>\n",
       "    </tr>\n",
       "    <tr>\n",
       "      <th>Extra Data Charges</th>\n",
       "      <td>0.081634</td>\n",
       "      <td>0.060669</td>\n",
       "      <td>0.058373</td>\n",
       "      <td>0.057978</td>\n",
       "      <td>0.048636</td>\n",
       "      <td>-0.017738</td>\n",
       "      <td>0.015257</td>\n",
       "      <td>0.055537</td>\n",
       "      <td>0.078104</td>\n",
       "      <td>-0.384468</td>\n",
       "      <td>1.000000</td>\n",
       "      <td>0.031922</td>\n",
       "      <td>0.001512</td>\n",
       "      <td>-0.016115</td>\n",
       "      <td>0.078700</td>\n",
       "      <td>0.123019</td>\n",
       "      <td>0.126111</td>\n",
       "    </tr>\n",
       "    <tr>\n",
       "      <th>Age</th>\n",
       "      <td>0.008610</td>\n",
       "      <td>0.000184</td>\n",
       "      <td>-0.002112</td>\n",
       "      <td>0.001109</td>\n",
       "      <td>0.005234</td>\n",
       "      <td>0.011087</td>\n",
       "      <td>0.076648</td>\n",
       "      <td>0.004020</td>\n",
       "      <td>-0.321727</td>\n",
       "      <td>0.083534</td>\n",
       "      <td>0.031922</td>\n",
       "      <td>1.000000</td>\n",
       "      <td>-0.656161</td>\n",
       "      <td>-0.120033</td>\n",
       "      <td>0.027286</td>\n",
       "      <td>0.152011</td>\n",
       "      <td>0.070280</td>\n",
       "    </tr>\n",
       "    <tr>\n",
       "      <th>Under 30</th>\n",
       "      <td>0.007345</td>\n",
       "      <td>0.012608</td>\n",
       "      <td>0.017717</td>\n",
       "      <td>0.003425</td>\n",
       "      <td>0.007318</td>\n",
       "      <td>-0.027247</td>\n",
       "      <td>-0.027266</td>\n",
       "      <td>0.021343</td>\n",
       "      <td>0.439333</td>\n",
       "      <td>-0.031454</td>\n",
       "      <td>0.001512</td>\n",
       "      <td>-0.656161</td>\n",
       "      <td>1.000000</td>\n",
       "      <td>0.032815</td>\n",
       "      <td>0.011578</td>\n",
       "      <td>-0.044276</td>\n",
       "      <td>-0.009771</td>\n",
       "    </tr>\n",
       "    <tr>\n",
       "      <th>Group</th>\n",
       "      <td>0.132379</td>\n",
       "      <td>0.102100</td>\n",
       "      <td>0.109210</td>\n",
       "      <td>0.045166</td>\n",
       "      <td>0.049548</td>\n",
       "      <td>-0.009717</td>\n",
       "      <td>-0.168016</td>\n",
       "      <td>0.028564</td>\n",
       "      <td>0.077629</td>\n",
       "      <td>-0.130845</td>\n",
       "      <td>-0.016115</td>\n",
       "      <td>-0.120033</td>\n",
       "      <td>0.032815</td>\n",
       "      <td>1.000000</td>\n",
       "      <td>-0.026891</td>\n",
       "      <td>-0.278773</td>\n",
       "      <td>-0.056419</td>\n",
       "    </tr>\n",
       "    <tr>\n",
       "      <th>Device Protection &amp; Online Backup</th>\n",
       "      <td>0.361749</td>\n",
       "      <td>0.296136</td>\n",
       "      <td>0.312779</td>\n",
       "      <td>0.110860</td>\n",
       "      <td>0.126928</td>\n",
       "      <td>-0.024789</td>\n",
       "      <td>-0.034710</td>\n",
       "      <td>0.103066</td>\n",
       "      <td>0.204958</td>\n",
       "      <td>0.294779</td>\n",
       "      <td>0.078700</td>\n",
       "      <td>0.027286</td>\n",
       "      <td>0.011578</td>\n",
       "      <td>-0.026891</td>\n",
       "      <td>1.000000</td>\n",
       "      <td>0.423618</td>\n",
       "      <td>0.504946</td>\n",
       "    </tr>\n",
       "    <tr>\n",
       "      <th>Monthly Charge</th>\n",
       "      <td>0.199586</td>\n",
       "      <td>0.173866</td>\n",
       "      <td>0.178922</td>\n",
       "      <td>0.076029</td>\n",
       "      <td>0.084365</td>\n",
       "      <td>-0.027126</td>\n",
       "      <td>0.140808</td>\n",
       "      <td>0.078809</td>\n",
       "      <td>0.293223</td>\n",
       "      <td>0.520333</td>\n",
       "      <td>0.123019</td>\n",
       "      <td>0.152011</td>\n",
       "      <td>-0.044276</td>\n",
       "      <td>-0.278773</td>\n",
       "      <td>0.423618</td>\n",
       "      <td>1.000000</td>\n",
       "      <td>0.649480</td>\n",
       "    </tr>\n",
       "    <tr>\n",
       "      <th>Total Charges</th>\n",
       "      <td>0.788632</td>\n",
       "      <td>0.649775</td>\n",
       "      <td>0.674701</td>\n",
       "      <td>0.278741</td>\n",
       "      <td>0.297966</td>\n",
       "      <td>-0.013127</td>\n",
       "      <td>-0.106737</td>\n",
       "      <td>0.228761</td>\n",
       "      <td>0.186505</td>\n",
       "      <td>0.276516</td>\n",
       "      <td>0.126111</td>\n",
       "      <td>0.070280</td>\n",
       "      <td>-0.009771</td>\n",
       "      <td>-0.056419</td>\n",
       "      <td>0.504946</td>\n",
       "      <td>0.649480</td>\n",
       "      <td>1.000000</td>\n",
       "    </tr>\n",
       "  </tbody>\n",
       "</table>\n",
       "</div>"
      ],
      "text/plain": [
       "                                   Account_Length  Local_Calls  Local_Mins   \n",
       "Account_Length                           1.000000     0.808959    0.844664  \\\n",
       "Local_Calls                              0.808959     1.000000    0.960020   \n",
       "Local_Mins                               0.844664     0.960020    1.000000   \n",
       "Intl_Calls                               0.352455     0.281572    0.296339   \n",
       "Intl_Mins                                0.374393     0.294704    0.311177   \n",
       "Intl_Plan                               -0.007239    -0.005745   -0.002386   \n",
       "CustServ_Calls                          -0.220730    -0.181444   -0.190631   \n",
       "Extra_Internationa_ Charges              0.277557     0.211008    0.223125   \n",
       "Avg_Monthly_GB_Download                  0.050712     0.048735    0.051573   \n",
       "Unlimited Data Plan                      0.032948     0.033283    0.036790   \n",
       "Extra Data Charges                       0.081634     0.060669    0.058373   \n",
       "Age                                      0.008610     0.000184   -0.002112   \n",
       "Under 30                                 0.007345     0.012608    0.017717   \n",
       "Group                                    0.132379     0.102100    0.109210   \n",
       "Device Protection & Online Backup        0.361749     0.296136    0.312779   \n",
       "Monthly Charge                           0.199586     0.173866    0.178922   \n",
       "Total Charges                            0.788632     0.649775    0.674701   \n",
       "\n",
       "                                   Intl_Calls  Intl_Mins  Intl_Plan   \n",
       "Account_Length                       0.352455   0.374393  -0.007239  \\\n",
       "Local_Calls                          0.281572   0.294704  -0.005745   \n",
       "Local_Mins                           0.296339   0.311177  -0.002386   \n",
       "Intl_Calls                           1.000000   0.859406   0.191491   \n",
       "Intl_Mins                            0.859406   1.000000   0.220103   \n",
       "Intl_Plan                            0.191491   0.220103   1.000000   \n",
       "CustServ_Calls                      -0.048850  -0.042113  -0.009326   \n",
       "Extra_Internationa_ Charges          0.672970   0.770625  -0.144723   \n",
       "Avg_Monthly_GB_Download              0.021693   0.026615  -0.027429   \n",
       "Unlimited Data Plan                 -0.000285   0.008932  -0.008064   \n",
       "Extra Data Charges                   0.057978   0.048636  -0.017738   \n",
       "Age                                  0.001109   0.005234   0.011087   \n",
       "Under 30                             0.003425   0.007318  -0.027247   \n",
       "Group                                0.045166   0.049548  -0.009717   \n",
       "Device Protection & Online Backup    0.110860   0.126928  -0.024789   \n",
       "Monthly Charge                       0.076029   0.084365  -0.027126   \n",
       "Total Charges                        0.278741   0.297966  -0.013127   \n",
       "\n",
       "                                   CustServ_Calls   \n",
       "Account_Length                          -0.220730  \\\n",
       "Local_Calls                             -0.181444   \n",
       "Local_Mins                              -0.190631   \n",
       "Intl_Calls                              -0.048850   \n",
       "Intl_Mins                               -0.042113   \n",
       "Intl_Plan                               -0.009326   \n",
       "CustServ_Calls                           1.000000   \n",
       "Extra_Internationa_ Charges              0.010853   \n",
       "Avg_Monthly_GB_Download                  0.018177   \n",
       "Unlimited Data Plan                      0.095477   \n",
       "Extra Data Charges                       0.015257   \n",
       "Age                                      0.076648   \n",
       "Under 30                                -0.027266   \n",
       "Group                                   -0.168016   \n",
       "Device Protection & Online Backup       -0.034710   \n",
       "Monthly Charge                           0.140808   \n",
       "Total Charges                           -0.106737   \n",
       "\n",
       "                                   Extra_Internationa_ Charges   \n",
       "Account_Length                                        0.277557  \\\n",
       "Local_Calls                                           0.211008   \n",
       "Local_Mins                                            0.223125   \n",
       "Intl_Calls                                            0.672970   \n",
       "Intl_Mins                                             0.770625   \n",
       "Intl_Plan                                            -0.144723   \n",
       "CustServ_Calls                                        0.010853   \n",
       "Extra_Internationa_ Charges                           1.000000   \n",
       "Avg_Monthly_GB_Download                               0.029432   \n",
       "Unlimited Data Plan                                   0.009663   \n",
       "Extra Data Charges                                    0.055537   \n",
       "Age                                                   0.004020   \n",
       "Under 30                                              0.021343   \n",
       "Group                                                 0.028564   \n",
       "Device Protection & Online Backup                     0.103066   \n",
       "Monthly Charge                                        0.078809   \n",
       "Total Charges                                         0.228761   \n",
       "\n",
       "                                   Avg_Monthly_GB_Download   \n",
       "Account_Length                                    0.050712  \\\n",
       "Local_Calls                                       0.048735   \n",
       "Local_Mins                                        0.051573   \n",
       "Intl_Calls                                        0.021693   \n",
       "Intl_Mins                                         0.026615   \n",
       "Intl_Plan                                        -0.027429   \n",
       "CustServ_Calls                                    0.018177   \n",
       "Extra_Internationa_ Charges                       0.029432   \n",
       "Avg_Monthly_GB_Download                           1.000000   \n",
       "Unlimited Data Plan                               0.355855   \n",
       "Extra Data Charges                                0.078104   \n",
       "Age                                              -0.321727   \n",
       "Under 30                                          0.439333   \n",
       "Group                                             0.077629   \n",
       "Device Protection & Online Backup                 0.204958   \n",
       "Monthly Charge                                    0.293223   \n",
       "Total Charges                                     0.186505   \n",
       "\n",
       "                                   Unlimited Data Plan  Extra Data Charges   \n",
       "Account_Length                                0.032948            0.081634  \\\n",
       "Local_Calls                                   0.033283            0.060669   \n",
       "Local_Mins                                    0.036790            0.058373   \n",
       "Intl_Calls                                   -0.000285            0.057978   \n",
       "Intl_Mins                                     0.008932            0.048636   \n",
       "Intl_Plan                                    -0.008064           -0.017738   \n",
       "CustServ_Calls                                0.095477            0.015257   \n",
       "Extra_Internationa_ Charges                   0.009663            0.055537   \n",
       "Avg_Monthly_GB_Download                       0.355855            0.078104   \n",
       "Unlimited Data Plan                           1.000000           -0.384468   \n",
       "Extra Data Charges                           -0.384468            1.000000   \n",
       "Age                                           0.083534            0.031922   \n",
       "Under 30                                     -0.031454            0.001512   \n",
       "Group                                        -0.130845           -0.016115   \n",
       "Device Protection & Online Backup             0.294779            0.078700   \n",
       "Monthly Charge                                0.520333            0.123019   \n",
       "Total Charges                                 0.276516            0.126111   \n",
       "\n",
       "                                        Age  Under 30     Group   \n",
       "Account_Length                     0.008610  0.007345  0.132379  \\\n",
       "Local_Calls                        0.000184  0.012608  0.102100   \n",
       "Local_Mins                        -0.002112  0.017717  0.109210   \n",
       "Intl_Calls                         0.001109  0.003425  0.045166   \n",
       "Intl_Mins                          0.005234  0.007318  0.049548   \n",
       "Intl_Plan                          0.011087 -0.027247 -0.009717   \n",
       "CustServ_Calls                     0.076648 -0.027266 -0.168016   \n",
       "Extra_Internationa_ Charges        0.004020  0.021343  0.028564   \n",
       "Avg_Monthly_GB_Download           -0.321727  0.439333  0.077629   \n",
       "Unlimited Data Plan                0.083534 -0.031454 -0.130845   \n",
       "Extra Data Charges                 0.031922  0.001512 -0.016115   \n",
       "Age                                1.000000 -0.656161 -0.120033   \n",
       "Under 30                          -0.656161  1.000000  0.032815   \n",
       "Group                             -0.120033  0.032815  1.000000   \n",
       "Device Protection & Online Backup  0.027286  0.011578 -0.026891   \n",
       "Monthly Charge                     0.152011 -0.044276 -0.278773   \n",
       "Total Charges                      0.070280 -0.009771 -0.056419   \n",
       "\n",
       "                                   Device Protection & Online Backup   \n",
       "Account_Length                                              0.361749  \\\n",
       "Local_Calls                                                 0.296136   \n",
       "Local_Mins                                                  0.312779   \n",
       "Intl_Calls                                                  0.110860   \n",
       "Intl_Mins                                                   0.126928   \n",
       "Intl_Plan                                                  -0.024789   \n",
       "CustServ_Calls                                             -0.034710   \n",
       "Extra_Internationa_ Charges                                 0.103066   \n",
       "Avg_Monthly_GB_Download                                     0.204958   \n",
       "Unlimited Data Plan                                         0.294779   \n",
       "Extra Data Charges                                          0.078700   \n",
       "Age                                                         0.027286   \n",
       "Under 30                                                    0.011578   \n",
       "Group                                                      -0.026891   \n",
       "Device Protection & Online Backup                           1.000000   \n",
       "Monthly Charge                                              0.423618   \n",
       "Total Charges                                               0.504946   \n",
       "\n",
       "                                   Monthly Charge  Total Charges  \n",
       "Account_Length                           0.199586       0.788632  \n",
       "Local_Calls                              0.173866       0.649775  \n",
       "Local_Mins                               0.178922       0.674701  \n",
       "Intl_Calls                               0.076029       0.278741  \n",
       "Intl_Mins                                0.084365       0.297966  \n",
       "Intl_Plan                               -0.027126      -0.013127  \n",
       "CustServ_Calls                           0.140808      -0.106737  \n",
       "Extra_Internationa_ Charges              0.078809       0.228761  \n",
       "Avg_Monthly_GB_Download                  0.293223       0.186505  \n",
       "Unlimited Data Plan                      0.520333       0.276516  \n",
       "Extra Data Charges                       0.123019       0.126111  \n",
       "Age                                      0.152011       0.070280  \n",
       "Under 30                                -0.044276      -0.009771  \n",
       "Group                                   -0.278773      -0.056419  \n",
       "Device Protection & Online Backup        0.423618       0.504946  \n",
       "Monthly Charge                           1.000000       0.649480  \n",
       "Total Charges                            0.649480       1.000000  "
      ]
     },
     "execution_count": 154,
     "metadata": {},
     "output_type": "execute_result"
    }
   ],
   "source": [
    "telco_features.corr()"
   ]
  },
  {
   "cell_type": "code",
   "execution_count": 155,
   "id": "3cae2973",
   "metadata": {},
   "outputs": [],
   "source": [
    "# Drop the unnecessary features\n",
    "telco = telco.drop(['Intl_Active','Group'], axis = 1)"
   ]
  },
  {
   "cell_type": "code",
   "execution_count": 156,
   "id": "cbf0ed78",
   "metadata": {},
   "outputs": [
    {
     "name": "stdout",
     "output_type": "stream",
     "text": [
      "Index(['Customer ID', 'Churn', 'Account_Length', 'Local_Calls', 'Local_Mins',\n",
      "       'Intl_Calls', 'Intl_Mins', 'Intl_Plan', 'Extra_Internationa_ Charges',\n",
      "       'CustServ_Calls', 'Avg_Monthly_GB_Download', 'Unlimited Data Plan',\n",
      "       'Extra Data Charges', 'State', 'Phone Number', 'Gender', 'Age',\n",
      "       'Under 30', 'Senior', 'Device Protection & Online Backup',\n",
      "       'Contract Type', 'Payment Method', 'Monthly Charge', 'Total Charges',\n",
      "       'Churn Category', 'Churn Reason', 'InternetService', 'DeviceProtection',\n",
      "       'TechSupport', 'StreamingTV', 'StreamingMovies'],\n",
      "      dtype='object')\n"
     ]
    }
   ],
   "source": [
    "# Verify dropped features\n",
    "print(telco.columns)"
   ]
  },
  {
   "cell_type": "markdown",
   "id": "46a07380",
   "metadata": {},
   "source": [
    "## Predicting Customer Churn"
   ]
  },
  {
   "cell_type": "code",
   "execution_count": 209,
   "id": "7ab23ff1",
   "metadata": {},
   "outputs": [],
   "source": [
    "# Define the new_customer data as a dictionary with lists/arrays for each feature\n",
    "new_customer = {\n",
    "    'Account_Length': [20],\n",
    "    'Local_Calls': [150],\n",
    "    'Local_Mins': [300.50],\n",
    "    'Intl_Calls': [5.0],\n",
    "    'Intl_Mins': [25.75],\n",
    "    'Intl_Plan': [1],\n",
    "    'Extra_Internationa_ Charges': [10.50],\n",
    "    'CustServ_Calls': [5],\n",
    "    'Avg_Monthly_GB_Download': [8],\n",
    "    'Unlimited Data Plan': [0],\n",
    "    'Extra Data Charges': [80],\n",
    "    'Age': [60],\n",
    "    'Under 30': [0],\n",
    "    'Senior': [1],\n",
    "    'Device Protection & Online Backup': [0],\n",
    "    'Monthly Charge': [100],\n",
    "    'Total Charges': [1200]\n",
    "}\n",
    "\n",
    "\n",
    "# Convert the new_customer data into a DataFrame\n",
    "new_customer_df = pd.DataFrame(new_customer)\n",
    "\n",
    "\n",
    "\n",
    "\n"
   ]
  },
  {
   "cell_type": "code",
   "execution_count": 210,
   "id": "23ae02c2",
   "metadata": {},
   "outputs": [],
   "source": [
    "features = ['Account_Length', 'Local_Calls', 'Local_Mins', 'Intl_Calls', 'Intl_Mins', 'Intl_Plan', 'Extra_Internationa_ Charges', 'CustServ_Calls', 'Avg_Monthly_GB_Download', 'Unlimited Data Plan', 'Extra Data Charges','Age', 'Under 30', 'Senior', 'Device Protection & Online Backup', 'Monthly Charge', 'Total Charges']"
   ]
  },
  {
   "cell_type": "code",
   "execution_count": 213,
   "id": "7cfb0b76",
   "metadata": {},
   "outputs": [
    {
     "name": "stdout",
     "output_type": "stream",
     "text": [
      "[0]\n"
     ]
    }
   ],
   "source": [
    "# Import Support Vector Classification\n",
    "from sklearn.svm import SVC\n",
    "\n",
    "# Instantiate the classifier\n",
    "svc = SVC()\n",
    "\n",
    "# Fit the classifier\n",
    "svc.fit(telco[features], telco['Churn'])\n",
    "\n",
    "# Predict the label of new_customer\n",
    "print(svc.predict(new_customer_df))"
   ]
  },
  {
   "cell_type": "code",
   "execution_count": 212,
   "id": "26663ed5",
   "metadata": {},
   "outputs": [
    {
     "name": "stdout",
     "output_type": "stream",
     "text": [
      "[1]\n"
     ]
    },
    {
     "name": "stderr",
     "output_type": "stream",
     "text": [
      "C:\\Users\\united\\AppData\\Local\\Programs\\Python\\Python311\\Lib\\site-packages\\sklearn\\linear_model\\_logistic.py:460: ConvergenceWarning: lbfgs failed to converge (status=1):\n",
      "STOP: TOTAL NO. of ITERATIONS REACHED LIMIT.\n",
      "\n",
      "Increase the number of iterations (max_iter) or scale the data as shown in:\n",
      "    https://scikit-learn.org/stable/modules/preprocessing.html\n",
      "Please also refer to the documentation for alternative solver options:\n",
      "    https://scikit-learn.org/stable/modules/linear_model.html#logistic-regression\n",
      "  n_iter_i = _check_optimize_result(\n"
     ]
    }
   ],
   "source": [
    "# Import LogisticRegression\n",
    "from sklearn.linear_model import LogisticRegression\n",
    "\n",
    "# Instantiate the classifier\n",
    "clf = LogisticRegression()\n",
    "\n",
    "# Fit the classifier\n",
    "clf.fit(telco[features], telco['Churn'])\n",
    "\n",
    "# Predict the label of new_customer\n",
    "print(clf.predict(new_customer_df))"
   ]
  },
  {
   "cell_type": "code",
   "execution_count": 214,
   "id": "06eb1cf6",
   "metadata": {},
   "outputs": [
    {
     "name": "stdout",
     "output_type": "stream",
     "text": [
      "[1]\n"
     ]
    }
   ],
   "source": [
    "# Import DecisionTreeClassifier\n",
    "from sklearn.tree import DecisionTreeClassifier\n",
    "\n",
    "# Instantiate the classifier\n",
    "clf = DecisionTreeClassifier()\n",
    "\n",
    "# Fit the classifier\n",
    "clf.fit(telco[features],telco['Churn'])\n",
    "\n",
    "# Predict the label of new_customer\n",
    "print(clf.predict(new_customer_df))"
   ]
  },
  {
   "cell_type": "markdown",
   "id": "2375302d",
   "metadata": {},
   "source": [
    "# Accuracy Metrics\n",
    "1. Score: to compute accuracy for test results(prediction) \n",
    "2. Confusion Matrix, Precision, Sensitivity(recall): to compute accuracy using confusion matrix\n",
    "3. ROC & AUC"
   ]
  },
  {
   "cell_type": "markdown",
   "id": "906d7e61",
   "metadata": {},
   "source": [
    "\n",
    "#### Accuracy on 70% data for training and 30% data for testing"
   ]
  },
  {
   "cell_type": "code",
   "execution_count": 215,
   "id": "b56c2a3c",
   "metadata": {},
   "outputs": [],
   "source": [
    "# Import train_test_split\n",
    "from sklearn.model_selection import train_test_split\n",
    "\n",
    "# Create feature variable\n",
    "X = telco[features]\n",
    "\n",
    "# Create target variable\n",
    "y = telco['Churn']\n",
    "\n",
    "# Create training and testing sets\n",
    "X_train, X_test, y_train, y_test = train_test_split(X, y, test_size=0.3)"
   ]
  },
  {
   "cell_type": "code",
   "execution_count": 216,
   "id": "60ade557",
   "metadata": {},
   "outputs": [
    {
     "name": "stdout",
     "output_type": "stream",
     "text": [
      "0.8799202790234181\n"
     ]
    }
   ],
   "source": [
    "# Import RandomForestClassifier\n",
    "from sklearn.ensemble import RandomForestClassifier\n",
    "\n",
    "# Instantiate the classifier\n",
    "clf = RandomForestClassifier()\n",
    "\n",
    "# Fit to the training data\n",
    "clf.fit(X_train,y_train)\n",
    "\n",
    "# Compute accuracy\n",
    "print(clf.score(X_test, y_test))"
   ]
  },
  {
   "cell_type": "code",
   "execution_count": 217,
   "id": "c88e5a13",
   "metadata": {},
   "outputs": [
    {
     "name": "stdout",
     "output_type": "stream",
     "text": [
      "[[1408   65]\n",
      " [ 176  358]]\n"
     ]
    }
   ],
   "source": [
    "# Import confusion_matrix\n",
    "from sklearn.metrics import confusion_matrix\n",
    "\n",
    "# Print the confusion matrix\n",
    "y_pred = clf.predict(X_test)\n",
    "print(confusion_matrix(y_test, y_pred))\n",
    "\n"
   ]
  },
  {
   "cell_type": "code",
   "execution_count": 218,
   "id": "959fb7cb",
   "metadata": {},
   "outputs": [],
   "source": [
    "TP,TN, FP, FN = 358,1408, 65,176  "
   ]
  },
  {
   "cell_type": "code",
   "execution_count": 219,
   "id": "2146195a",
   "metadata": {
    "scrolled": true
   },
   "outputs": [
    {
     "name": "stdout",
     "output_type": "stream",
     "text": [
      "0.8463356973995272\n"
     ]
    }
   ],
   "source": [
    "precision = TP / (TP + FP)\n",
    "print(precision)"
   ]
  },
  {
   "cell_type": "code",
   "execution_count": 220,
   "id": "18c5cc5f",
   "metadata": {},
   "outputs": [
    {
     "name": "stdout",
     "output_type": "stream",
     "text": [
      "0.8463356973995272\n"
     ]
    }
   ],
   "source": [
    "#or\n",
    "from sklearn.metrics import precision_score\n",
    "print(precision_score(y_test, y_pred))"
   ]
  },
  {
   "cell_type": "code",
   "execution_count": 221,
   "id": "9d973436",
   "metadata": {},
   "outputs": [
    {
     "name": "stdout",
     "output_type": "stream",
     "text": [
      "0.6704119850187266\n"
     ]
    }
   ],
   "source": [
    "sensitivity = TP / (TP + FN)\n",
    "print(sensitivity)"
   ]
  },
  {
   "cell_type": "code",
   "execution_count": 222,
   "id": "ee871acf",
   "metadata": {},
   "outputs": [
    {
     "name": "stdout",
     "output_type": "stream",
     "text": [
      "0.6704119850187266\n"
     ]
    }
   ],
   "source": [
    "#or\n",
    "from sklearn.metrics import recall_score\n",
    "print(recall_score(y_test, y_pred))"
   ]
  },
  {
   "cell_type": "markdown",
   "id": "238bfdab",
   "metadata": {},
   "source": [
    "#### Accuracy on 80% data for training and 20% data for testing"
   ]
  },
  {
   "cell_type": "code",
   "execution_count": 223,
   "id": "496c0089",
   "metadata": {},
   "outputs": [],
   "source": [
    "# Import train_test_split\n",
    "from sklearn.model_selection import train_test_split\n",
    "\n",
    "# Create feature variable\n",
    "X = telco[features]\n",
    "\n",
    "# Create target variable\n",
    "y = telco['Churn']\n",
    "\n",
    "# Create training and testing sets\n",
    "X_train, X_test, y_train, y_test = train_test_split(X, y, test_size=0.2)"
   ]
  },
  {
   "cell_type": "code",
   "execution_count": 224,
   "id": "2d0ffd9a",
   "metadata": {},
   "outputs": [
    {
     "name": "stdout",
     "output_type": "stream",
     "text": [
      "0.905829596412556\n"
     ]
    }
   ],
   "source": [
    "# Import RandomForestClassifier\n",
    "from sklearn.ensemble import RandomForestClassifier\n",
    "\n",
    "# Instantiate the classifier\n",
    "clf = RandomForestClassifier()\n",
    "\n",
    "# Fit to the training data\n",
    "clf.fit(X_train,y_train)\n",
    "\n",
    "# Compute accuracy\n",
    "print(clf.score(X_test, y_test))"
   ]
  },
  {
   "cell_type": "code",
   "execution_count": 225,
   "id": "d3a44c73",
   "metadata": {},
   "outputs": [
    {
     "name": "stdout",
     "output_type": "stream",
     "text": [
      "[[966  24]\n",
      " [102 246]]\n"
     ]
    }
   ],
   "source": [
    "# Import confusion_matrix\n",
    "from sklearn.metrics import confusion_matrix\n",
    "\n",
    "# Print the confusion matrix\n",
    "y_pred = clf.predict(X_test)\n",
    "print(confusion_matrix(y_test, y_pred))\n",
    "\n"
   ]
  },
  {
   "cell_type": "code",
   "execution_count": 226,
   "id": "f55e672e",
   "metadata": {},
   "outputs": [],
   "source": [
    "TP,TN, FP, FN = 246,966  , 24,102 "
   ]
  },
  {
   "cell_type": "code",
   "execution_count": 227,
   "id": "d8d86ec6",
   "metadata": {},
   "outputs": [
    {
     "name": "stdout",
     "output_type": "stream",
     "text": [
      "0.9111111111111111\n"
     ]
    }
   ],
   "source": [
    "precision = TP / (TP + FP)\n",
    "print(precision)"
   ]
  },
  {
   "cell_type": "code",
   "execution_count": 228,
   "id": "6d566c3a",
   "metadata": {},
   "outputs": [
    {
     "name": "stdout",
     "output_type": "stream",
     "text": [
      "0.9111111111111111\n"
     ]
    }
   ],
   "source": [
    "#or\n",
    "from sklearn.metrics import precision_score\n",
    "print(precision_score(y_test, y_pred))"
   ]
  },
  {
   "cell_type": "code",
   "execution_count": 229,
   "id": "3ee12343",
   "metadata": {},
   "outputs": [
    {
     "name": "stdout",
     "output_type": "stream",
     "text": [
      "0.7068965517241379\n"
     ]
    }
   ],
   "source": [
    "sensitivity = TP / (TP + FN)\n",
    "print(sensitivity)"
   ]
  },
  {
   "cell_type": "code",
   "execution_count": 230,
   "id": "fab0d504",
   "metadata": {},
   "outputs": [
    {
     "name": "stdout",
     "output_type": "stream",
     "text": [
      "0.7068965517241379\n"
     ]
    }
   ],
   "source": [
    "#or\n",
    "from sklearn.metrics import recall_score\n",
    "print(recall_score(y_test, y_pred))"
   ]
  },
  {
   "cell_type": "markdown",
   "id": "b4ed9413",
   "metadata": {},
   "source": [
    "### Conclusion\n",
    "When adding more data to train model it gets more precise, so the precision for 80% training data is higher than the precision for 70% training data"
   ]
  },
  {
   "cell_type": "markdown",
   "id": "8743dce1",
   "metadata": {},
   "source": [
    "# ROC & AUC"
   ]
  },
  {
   "cell_type": "code",
   "execution_count": 231,
   "id": "3ac0107a",
   "metadata": {},
   "outputs": [
    {
     "data": {
      "image/png": "[encoded data removed]",
      "text/plain": [
       "<Figure size 640x480 with 1 Axes>"
      ]
     },
     "metadata": {},
     "output_type": "display_data"
    }
   ],
   "source": [
    "# Import roc_curve\n",
    "from sklearn.metrics import roc_curve\n",
    "\n",
    "# Generate the probabilities\n",
    "y_pred_prob = clf.predict_proba(X_test)[:, 1]\n",
    "\n",
    "# Import roc_curve\n",
    "from sklearn.metrics import roc_curve\n",
    "\n",
    "# Calculate the roc metrics\n",
    "fpr, tpr, thresholds = roc_curve(y_test, y_pred_prob)\n",
    "\n",
    "# Plot the ROC curve\n",
    "plt.plot(fpr,tpr)\n",
    "\n",
    "# Add labels and diagonal line\n",
    "plt.xlabel(\"False Positive Rate\")\n",
    "plt.ylabel(\"True Positive Rate\")\n",
    "plt.plot([0, 1], [0, 1], \"k--\")\n",
    "plt.show()"
   ]
  },
  {
   "cell_type": "code",
   "execution_count": 232,
   "id": "36ece2e9",
   "metadata": {},
   "outputs": [
    {
     "name": "stdout",
     "output_type": "stream",
     "text": [
      "0.9273583536514572\n"
     ]
    }
   ],
   "source": [
    "# Import roc_auc_score\n",
    "from sklearn.metrics import roc_auc_score\n",
    "\n",
    "# Print the AUC\n",
    "print(roc_auc_score(y_test, y_pred_prob))"
   ]
  },
  {
   "cell_type": "markdown",
   "id": "4b6d6d33",
   "metadata": {},
   "source": [
    "## F1 Score\n",
    "The advantage of the F1 score is it incorporates both precision and recall into a single metric, and a high F1 score is a sign of a well-performing model."
   ]
  },
  {
   "cell_type": "code",
   "execution_count": 233,
   "id": "3f9589dd",
   "metadata": {},
   "outputs": [
    {
     "name": "stdout",
     "output_type": "stream",
     "text": [
      "0.7961165048543689\n"
     ]
    }
   ],
   "source": [
    "# Import f1_score\n",
    "from sklearn.metrics import f1_score\n",
    "\n",
    "# Print the F1 score\n",
    "print(f1_score(y_test, y_pred))"
   ]
  },
  {
   "cell_type": "markdown",
   "id": "cd665eac",
   "metadata": {},
   "source": [
    "## Conclusion\n",
    "\n",
    "\n",
    "An accuracy of 0.95, precision of 0.91, recall of 0.70, ROC AUC of 0.92, and F1 score of 0.79 indicate a well-performing model overall, but there are some important aspects to consider:\n",
    "\n",
    "Accuracy (0.95): An accuracy of 0.95 means that 95% of the instances are correctly predicted by the model. In many cases, this is considered a high accuracy, but it's essential to verify if the dataset is balanced or imbalanced. High accuracy might be misleading if the dataset is heavily imbalanced.\n",
    "\n",
    "Precision (0.91): Precision of 0.91 indicates that when the model predicts a positive instance, it is correct 91% of the time. This is a good precision score and suggests that the model is making relatively accurate positive predictions.\n",
    "\n",
    "Recall (0.70): Recall of 0.70 means that the model is correctly identifying 70% of the positive instances from the total actual positive instances. While it is not as high as precision, it is still a reasonable recall score.\n",
    "\n",
    "ROC AUC (0.92): An ROC AUC of 0.92 suggests that the model has good discrimination power and can distinguish between positive and negative instances effectively.\n",
    "\n",
    "F1 Score (0.79): The F1 score takes into account both precision and recall and provides a balanced evaluation metric. A score of 0.79 indicates a reasonable balance between precision and recall.\n",
    "\n",
    "\n",
    "In summary, the model seems to be performing well overall, but the significance of the scores depends on the problem's context and the relative importance of precision and recall in the specific application."
   ]
  },
  {
   "cell_type": "code",
   "execution_count": null,
   "id": "233a87a1",
   "metadata": {},
   "outputs": [],
   "source": []
  }
 ],
 "metadata": {
  "kernelspec": {
   "display_name": "Python 3 (ipykernel)",
   "language": "python",
   "name": "python3"
  },
  "language_info": {
   "codemirror_mode": {
    "name": "ipython",
    "version": 3
   },
   "file_extension": ".py",
   "mimetype": "text/x-python",
   "name": "python",
   "nbconvert_exporter": "python",
   "pygments_lexer": "ipython3",
   "version": "3.11.3"
  }
 },
 "nbformat": 4,
 "nbformat_minor": 5
}
